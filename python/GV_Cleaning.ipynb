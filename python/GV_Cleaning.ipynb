{
 "cells": [
  {
   "cell_type": "code",
   "execution_count": 41,
   "metadata": {},
   "outputs": [],
   "source": [
    "import pandas as pd\n",
    "import plotly.express as px"
   ]
  },
  {
   "cell_type": "code",
   "execution_count": 58,
   "metadata": {},
   "outputs": [],
   "source": [
    "# Python SQL toolkit and Object Relational Mapper\n",
    "import sqlalchemy\n",
    "from sqlalchemy.ext.automap import automap_base\n",
    "from sqlalchemy.orm import Session\n",
    "from sqlalchemy import create_engine, inspect, func"
   ]
  },
  {
   "cell_type": "code",
   "execution_count": 42,
   "metadata": {},
   "outputs": [],
   "source": [
    "gun_file=\"gun-violence.csv\"\n",
    "pop_file=\"estpop.csv\""
   ]
  },
  {
   "cell_type": "code",
   "execution_count": 43,
   "metadata": {},
   "outputs": [
    {
     "output_type": "execute_result",
     "data": {
      "text/plain": [
       "            incident_id           state city_or_county  \\\n",
       "date                                                     \n",
       "2013-01-01       461105    Pennsylvania     Mckeesport   \n",
       "2013-01-01       460726      California      Hawthorne   \n",
       "2013-01-01       478855            Ohio         Lorain   \n",
       "2013-01-05       478925        Colorado         Aurora   \n",
       "2013-01-07       478959  North Carolina     Greensboro   \n",
       "\n",
       "                                              address  n_killed  n_injured  \\\n",
       "date                                                                         \n",
       "2013-01-01  1506 Versailles Avenue and Coursin Street         0          4   \n",
       "2013-01-01               13500 block of Cerise Avenue         1          3   \n",
       "2013-01-01                      1776 East 28th Street         1          3   \n",
       "2013-01-05           16000 block of East Ithaca Place         4          0   \n",
       "2013-01-07                  307 Mourning Dove Terrace         2          2   \n",
       "\n",
       "                                                 incident_url  \\\n",
       "date                                                            \n",
       "2013-01-01  http://www.gunviolencearchive.org/incident/461105   \n",
       "2013-01-01  http://www.gunviolencearchive.org/incident/460726   \n",
       "2013-01-01  http://www.gunviolencearchive.org/incident/478855   \n",
       "2013-01-05  http://www.gunviolencearchive.org/incident/478925   \n",
       "2013-01-07  http://www.gunviolencearchive.org/incident/478959   \n",
       "\n",
       "                                                   source_url  \\\n",
       "date                                                            \n",
       "2013-01-01  http://www.post-gazette.com/local/south/2013/0...   \n",
       "2013-01-01  http://www.dailybulletin.com/article/zz/201301...   \n",
       "2013-01-01  http://chronicle.northcoastnow.com/2013/02/14/...   \n",
       "2013-01-05  http://www.dailydemocrat.com/20130106/aurora-s...   \n",
       "2013-01-07  http://www.journalnow.com/news/local/article_d...   \n",
       "\n",
       "            incident_url_fields_missing  congressional_district  ...  \\\n",
       "date                                                             ...   \n",
       "2013-01-01                        False                    14.0  ...   \n",
       "2013-01-01                        False                    43.0  ...   \n",
       "2013-01-01                        False                     9.0  ...   \n",
       "2013-01-05                        False                     6.0  ...   \n",
       "2013-01-07                        False                     6.0  ...   \n",
       "\n",
       "                              participant_age  \\\n",
       "date                                            \n",
       "2013-01-01                              0::20   \n",
       "2013-01-01                              0::20   \n",
       "2013-01-01  0::25||1::31||2::33||3::34||4::33   \n",
       "2013-01-05         0::29||1::33||2::56||3::33   \n",
       "2013-01-07         0::18||1::46||2::14||3::47   \n",
       "\n",
       "                                        participant_age_group  \\\n",
       "date                                                            \n",
       "2013-01-01  0::Adult 18+||1::Adult 18+||2::Adult 18+||3::A...   \n",
       "2013-01-01  0::Adult 18+||1::Adult 18+||2::Adult 18+||3::A...   \n",
       "2013-01-01  0::Adult 18+||1::Adult 18+||2::Adult 18+||3::A...   \n",
       "2013-01-05  0::Adult 18+||1::Adult 18+||2::Adult 18+||3::A...   \n",
       "2013-01-07  0::Adult 18+||1::Adult 18+||2::Teen 12-17||3::...   \n",
       "\n",
       "                                     participant_gender  \\\n",
       "date                                                      \n",
       "2013-01-01         0::Male||1::Male||3::Male||4::Female   \n",
       "2013-01-01                                      0::Male   \n",
       "2013-01-01  0::Male||1::Male||2::Male||3::Male||4::Male   \n",
       "2013-01-05         0::Female||1::Male||2::Male||3::Male   \n",
       "2013-01-07       0::Female||1::Male||2::Male||3::Female   \n",
       "\n",
       "                                             participant_name  \\\n",
       "date                                                            \n",
       "2013-01-01                                     0::Julian Sims   \n",
       "2013-01-01                                  0::Bernard Gillis   \n",
       "2013-01-01  0::Damien Bell||1::Desmen Noble||2::Herman Sea...   \n",
       "2013-01-05  0::Stacie Philbrook||1::Christopher Ratliffe||...   \n",
       "2013-01-07  0::Danielle Imani Jameison||1::Maurice Eugene ...   \n",
       "\n",
       "           participant_relationship  \\\n",
       "date                                  \n",
       "2013-01-01                      NaN   \n",
       "2013-01-01                      NaN   \n",
       "2013-01-01                      NaN   \n",
       "2013-01-05                      NaN   \n",
       "2013-01-07                3::Family   \n",
       "\n",
       "                                           participant_status  \\\n",
       "date                                                            \n",
       "2013-01-01  0::Arrested||1::Injured||2::Injured||3::Injure...   \n",
       "2013-01-01      0::Killed||1::Injured||2::Injured||3::Injured   \n",
       "2013-01-01  0::Injured, Unharmed, Arrested||1::Unharmed, A...   \n",
       "2013-01-05         0::Killed||1::Killed||2::Killed||3::Killed   \n",
       "2013-01-07       0::Injured||1::Injured||2::Killed||3::Killed   \n",
       "\n",
       "                                             participant_type  \\\n",
       "date                                                            \n",
       "2013-01-01  0::Victim||1::Victim||2::Victim||3::Victim||4:...   \n",
       "2013-01-01  0::Victim||1::Victim||2::Victim||3::Victim||4:...   \n",
       "2013-01-01  0::Subject-Suspect||1::Subject-Suspect||2::Vic...   \n",
       "2013-01-05  0::Victim||1::Victim||2::Victim||3::Subject-Su...   \n",
       "2013-01-07  0::Victim||1::Victim||2::Victim||3::Subject-Su...   \n",
       "\n",
       "                                                      sources  \\\n",
       "date                                                            \n",
       "2013-01-01  http://pittsburgh.cbslocal.com/2013/01/01/4-pe...   \n",
       "2013-01-01  http://losangeles.cbslocal.com/2013/01/01/man-...   \n",
       "2013-01-01  http://www.morningjournal.com/general-news/201...   \n",
       "2013-01-05  http://denver.cbslocal.com/2013/01/06/officer-...   \n",
       "2013-01-07  http://myfox8.com/2013/01/08/update-mother-sho...   \n",
       "\n",
       "           state_house_district state_senate_district  \n",
       "date                                                   \n",
       "2013-01-01                  NaN                   NaN  \n",
       "2013-01-01                 62.0                  35.0  \n",
       "2013-01-01                 56.0                  13.0  \n",
       "2013-01-05                 40.0                  28.0  \n",
       "2013-01-07                 62.0                  27.0  \n",
       "\n",
       "[5 rows x 28 columns]"
      ],
      "text/html": "<div>\n<style scoped>\n    .dataframe tbody tr th:only-of-type {\n        vertical-align: middle;\n    }\n\n    .dataframe tbody tr th {\n        vertical-align: top;\n    }\n\n    .dataframe thead th {\n        text-align: right;\n    }\n</style>\n<table border=\"1\" class=\"dataframe\">\n  <thead>\n    <tr style=\"text-align: right;\">\n      <th></th>\n      <th>incident_id</th>\n      <th>state</th>\n      <th>city_or_county</th>\n      <th>address</th>\n      <th>n_killed</th>\n      <th>n_injured</th>\n      <th>incident_url</th>\n      <th>source_url</th>\n      <th>incident_url_fields_missing</th>\n      <th>congressional_district</th>\n      <th>...</th>\n      <th>participant_age</th>\n      <th>participant_age_group</th>\n      <th>participant_gender</th>\n      <th>participant_name</th>\n      <th>participant_relationship</th>\n      <th>participant_status</th>\n      <th>participant_type</th>\n      <th>sources</th>\n      <th>state_house_district</th>\n      <th>state_senate_district</th>\n    </tr>\n    <tr>\n      <th>date</th>\n      <th></th>\n      <th></th>\n      <th></th>\n      <th></th>\n      <th></th>\n      <th></th>\n      <th></th>\n      <th></th>\n      <th></th>\n      <th></th>\n      <th></th>\n      <th></th>\n      <th></th>\n      <th></th>\n      <th></th>\n      <th></th>\n      <th></th>\n      <th></th>\n      <th></th>\n      <th></th>\n      <th></th>\n    </tr>\n  </thead>\n  <tbody>\n    <tr>\n      <th>2013-01-01</th>\n      <td>461105</td>\n      <td>Pennsylvania</td>\n      <td>Mckeesport</td>\n      <td>1506 Versailles Avenue and Coursin Street</td>\n      <td>0</td>\n      <td>4</td>\n      <td>http://www.gunviolencearchive.org/incident/461105</td>\n      <td>http://www.post-gazette.com/local/south/2013/0...</td>\n      <td>False</td>\n      <td>14.0</td>\n      <td>...</td>\n      <td>0::20</td>\n      <td>0::Adult 18+||1::Adult 18+||2::Adult 18+||3::A...</td>\n      <td>0::Male||1::Male||3::Male||4::Female</td>\n      <td>0::Julian Sims</td>\n      <td>NaN</td>\n      <td>0::Arrested||1::Injured||2::Injured||3::Injure...</td>\n      <td>0::Victim||1::Victim||2::Victim||3::Victim||4:...</td>\n      <td>http://pittsburgh.cbslocal.com/2013/01/01/4-pe...</td>\n      <td>NaN</td>\n      <td>NaN</td>\n    </tr>\n    <tr>\n      <th>2013-01-01</th>\n      <td>460726</td>\n      <td>California</td>\n      <td>Hawthorne</td>\n      <td>13500 block of Cerise Avenue</td>\n      <td>1</td>\n      <td>3</td>\n      <td>http://www.gunviolencearchive.org/incident/460726</td>\n      <td>http://www.dailybulletin.com/article/zz/201301...</td>\n      <td>False</td>\n      <td>43.0</td>\n      <td>...</td>\n      <td>0::20</td>\n      <td>0::Adult 18+||1::Adult 18+||2::Adult 18+||3::A...</td>\n      <td>0::Male</td>\n      <td>0::Bernard Gillis</td>\n      <td>NaN</td>\n      <td>0::Killed||1::Injured||2::Injured||3::Injured</td>\n      <td>0::Victim||1::Victim||2::Victim||3::Victim||4:...</td>\n      <td>http://losangeles.cbslocal.com/2013/01/01/man-...</td>\n      <td>62.0</td>\n      <td>35.0</td>\n    </tr>\n    <tr>\n      <th>2013-01-01</th>\n      <td>478855</td>\n      <td>Ohio</td>\n      <td>Lorain</td>\n      <td>1776 East 28th Street</td>\n      <td>1</td>\n      <td>3</td>\n      <td>http://www.gunviolencearchive.org/incident/478855</td>\n      <td>http://chronicle.northcoastnow.com/2013/02/14/...</td>\n      <td>False</td>\n      <td>9.0</td>\n      <td>...</td>\n      <td>0::25||1::31||2::33||3::34||4::33</td>\n      <td>0::Adult 18+||1::Adult 18+||2::Adult 18+||3::A...</td>\n      <td>0::Male||1::Male||2::Male||3::Male||4::Male</td>\n      <td>0::Damien Bell||1::Desmen Noble||2::Herman Sea...</td>\n      <td>NaN</td>\n      <td>0::Injured, Unharmed, Arrested||1::Unharmed, A...</td>\n      <td>0::Subject-Suspect||1::Subject-Suspect||2::Vic...</td>\n      <td>http://www.morningjournal.com/general-news/201...</td>\n      <td>56.0</td>\n      <td>13.0</td>\n    </tr>\n    <tr>\n      <th>2013-01-05</th>\n      <td>478925</td>\n      <td>Colorado</td>\n      <td>Aurora</td>\n      <td>16000 block of East Ithaca Place</td>\n      <td>4</td>\n      <td>0</td>\n      <td>http://www.gunviolencearchive.org/incident/478925</td>\n      <td>http://www.dailydemocrat.com/20130106/aurora-s...</td>\n      <td>False</td>\n      <td>6.0</td>\n      <td>...</td>\n      <td>0::29||1::33||2::56||3::33</td>\n      <td>0::Adult 18+||1::Adult 18+||2::Adult 18+||3::A...</td>\n      <td>0::Female||1::Male||2::Male||3::Male</td>\n      <td>0::Stacie Philbrook||1::Christopher Ratliffe||...</td>\n      <td>NaN</td>\n      <td>0::Killed||1::Killed||2::Killed||3::Killed</td>\n      <td>0::Victim||1::Victim||2::Victim||3::Subject-Su...</td>\n      <td>http://denver.cbslocal.com/2013/01/06/officer-...</td>\n      <td>40.0</td>\n      <td>28.0</td>\n    </tr>\n    <tr>\n      <th>2013-01-07</th>\n      <td>478959</td>\n      <td>North Carolina</td>\n      <td>Greensboro</td>\n      <td>307 Mourning Dove Terrace</td>\n      <td>2</td>\n      <td>2</td>\n      <td>http://www.gunviolencearchive.org/incident/478959</td>\n      <td>http://www.journalnow.com/news/local/article_d...</td>\n      <td>False</td>\n      <td>6.0</td>\n      <td>...</td>\n      <td>0::18||1::46||2::14||3::47</td>\n      <td>0::Adult 18+||1::Adult 18+||2::Teen 12-17||3::...</td>\n      <td>0::Female||1::Male||2::Male||3::Female</td>\n      <td>0::Danielle Imani Jameison||1::Maurice Eugene ...</td>\n      <td>3::Family</td>\n      <td>0::Injured||1::Injured||2::Killed||3::Killed</td>\n      <td>0::Victim||1::Victim||2::Victim||3::Subject-Su...</td>\n      <td>http://myfox8.com/2013/01/08/update-mother-sho...</td>\n      <td>62.0</td>\n      <td>27.0</td>\n    </tr>\n  </tbody>\n</table>\n<p>5 rows × 28 columns</p>\n</div>"
     },
     "metadata": {},
     "execution_count": 43
    }
   ],
   "source": [
    "gv_df=pd.read_csv(gun_file,parse_dates=['date'],index_col=['date'])\n",
    "gv_df.head()"
   ]
  },
  {
   "cell_type": "code",
   "execution_count": 44,
   "metadata": {},
   "outputs": [
    {
     "output_type": "execute_result",
     "data": {
      "text/plain": [
       "    SUMLEV REGION DIVISION  STATE                  NAME  CENSUS2010POP  \\\n",
       "0       10      0        0      0         United States      308745538   \n",
       "1       20      1        0      0      Northeast Region       55317240   \n",
       "2       20      2        0      0        Midwest Region       66927001   \n",
       "3       20      3        0      0          South Region      114555744   \n",
       "4       20      4        0      0           West Region       71945553   \n",
       "5       40      3        6      1               Alabama        4779736   \n",
       "6       40      4        9      2                Alaska         710231   \n",
       "7       40      4        8      4               Arizona        6392017   \n",
       "8       40      3        7      5              Arkansas        2915918   \n",
       "9       40      4        9      6            California       37253956   \n",
       "10      40      4        8      8              Colorado        5029196   \n",
       "11      40      1        1      9           Connecticut        3574097   \n",
       "12      40      3        5     10              Delaware         897934   \n",
       "13      40      3        5     11  District of Columbia         601723   \n",
       "14      40      3        5     12               Florida       18801310   \n",
       "15      40      3        5     13               Georgia        9687653   \n",
       "16      40      4        9     15                Hawaii        1360301   \n",
       "17      40      4        8     16                 Idaho        1567582   \n",
       "18      40      2        3     17              Illinois       12830632   \n",
       "19      40      2        3     18               Indiana        6483802   \n",
       "20      40      2        4     19                  Iowa        3046355   \n",
       "21      40      2        4     20                Kansas        2853118   \n",
       "22      40      3        6     21              Kentucky        4339367   \n",
       "23      40      3        7     22             Louisiana        4533372   \n",
       "24      40      1        1     23                 Maine        1328361   \n",
       "25      40      3        5     24              Maryland        5773552   \n",
       "26      40      1        1     25         Massachusetts        6547629   \n",
       "27      40      2        3     26              Michigan        9883640   \n",
       "28      40      2        4     27             Minnesota        5303925   \n",
       "29      40      3        6     28           Mississippi        2967297   \n",
       "30      40      2        4     29              Missouri        5988927   \n",
       "31      40      4        8     30               Montana         989415   \n",
       "32      40      2        4     31              Nebraska        1826341   \n",
       "33      40      4        8     32                Nevada        2700551   \n",
       "34      40      1        1     33         New Hampshire        1316470   \n",
       "35      40      1        2     34            New Jersey        8791894   \n",
       "36      40      4        8     35            New Mexico        2059179   \n",
       "37      40      1        2     36              New York       19378102   \n",
       "38      40      3        5     37        North Carolina        9535483   \n",
       "39      40      2        4     38          North Dakota         672591   \n",
       "40      40      2        3     39                  Ohio       11536504   \n",
       "41      40      3        7     40              Oklahoma        3751351   \n",
       "42      40      4        9     41                Oregon        3831074   \n",
       "43      40      1        2     42          Pennsylvania       12702379   \n",
       "44      40      1        1     44          Rhode Island        1052567   \n",
       "45      40      3        5     45        South Carolina        4625364   \n",
       "46      40      2        4     46          South Dakota         814180   \n",
       "47      40      3        6     47             Tennessee        6346105   \n",
       "48      40      3        7     48                 Texas       25145561   \n",
       "49      40      4        8     49                  Utah        2763885   \n",
       "50      40      1        1     50               Vermont         625741   \n",
       "51      40      3        5     51              Virginia        8001024   \n",
       "52      40      4        9     53            Washington        6724540   \n",
       "53      40      3        5     54         West Virginia        1852994   \n",
       "54      40      2        3     55             Wisconsin        5686986   \n",
       "55      40      4        8     56               Wyoming         563626   \n",
       "56      40      X        X     72           Puerto Rico        3725789   \n",
       "\n",
       "    ESTIMATESBASE2010  POPESTIMATE2010  POPESTIMATE2011  POPESTIMATE2012  ...  \\\n",
       "0           308758105        309321666        311556874        313830990  ...   \n",
       "1            55318443         55380134         55604223         55775216  ...   \n",
       "2            66929725         66974416         67157800         67336743  ...   \n",
       "3           114563030        114866680        116006522        117241208  ...   \n",
       "4            71946907         72100436         72788329         73477823  ...   \n",
       "5             4780125          4785437          4799069          4815588  ...   \n",
       "6              710249           713910           722128           730443  ...   \n",
       "7             6392288          6407172          6472643          6554978  ...   \n",
       "8             2916031          2921964          2940667          2952164  ...   \n",
       "9            37254519         37319502         37638369         37948800  ...   \n",
       "10            5029319          5047349          5121108          5192647  ...   \n",
       "11            3574147          3579114          3588283          3594547  ...   \n",
       "12             897937           899593           907381           915179  ...   \n",
       "13             601767           605226           619800           634924  ...   \n",
       "14           18804564         18845537         19053237         19297822  ...   \n",
       "15            9688729          9711881          9802431          9901430  ...   \n",
       "16            1360307          1363963          1379329          1394804  ...   \n",
       "17            1567657          1570746          1583910          1595324  ...   \n",
       "18           12831572         12840503         12867454         12882510  ...   \n",
       "19            6484051          6490432          6516528          6537703  ...   \n",
       "20            3046871          3050745          3066336          3076190  ...   \n",
       "21            2853123          2858190          2869225          2885257  ...   \n",
       "22            4339333          4348181          4369821          4386346  ...   \n",
       "23            4533487          4544532          4575625          4600972  ...   \n",
       "24            1328358          1327629          1328284          1327729  ...   \n",
       "25            5773794          5788645          5839419          5886992  ...   \n",
       "26            6547785          6566307          6613583          6663005  ...   \n",
       "27            9884116          9877510          9882412          9897145  ...   \n",
       "28            5303927          5310828          5346143          5376643  ...   \n",
       "29            2968130          2970548          2978731          2983816  ...   \n",
       "30            5988950          5995974          6010275          6024367  ...   \n",
       "31             989407           990697           997316          1003783  ...   \n",
       "32            1826305          1829542          1840672          1853303  ...   \n",
       "33            2700677          2702405          2712730          2743996  ...   \n",
       "34            1316462          1316762          1320202          1324232  ...   \n",
       "35            8791978          8799446          8828117          8844942  ...   \n",
       "36            2059199          2064552          2080450          2087309  ...   \n",
       "37           19378144         19399878         19499241         19572932  ...   \n",
       "38            9535751          9574323          9657592          9749476  ...   \n",
       "39             672576           674715           685225           701176  ...   \n",
       "40           11536751         11539336         11544663         11548923  ...   \n",
       "41            3751582          3759944          3788379          3818814  ...   \n",
       "42            3831079          3837491          3872036          3899001  ...   \n",
       "43           12702868         12711160         12745815         12767118  ...   \n",
       "44            1052964          1053959          1053649          1054621  ...   \n",
       "45            4625366          4635649          4671994          4717354  ...   \n",
       "46             814198           816166           823579           833566  ...   \n",
       "47            6346276          6355311          6399291          6453898  ...   \n",
       "48           25146091         25241971         25645629         26084481  ...   \n",
       "49            2763891          2775332          2814384          2853375  ...   \n",
       "50             625737           625879           627049           626090  ...   \n",
       "51            8001049          8023699          8101155          8185080  ...   \n",
       "52            6724540          6742830          6826627          6897058  ...   \n",
       "53            1853018          1854239          1856301          1856872  ...   \n",
       "54            5687285          5690475          5705288          5719960  ...   \n",
       "55             563775           564487           567299           576305  ...   \n",
       "56            3726157          3721525          3678732          3634488  ...   \n",
       "\n",
       "    RDOMESTICMIG2019  RNETMIG2011  RNETMIG2012  RNETMIG2013  RNETMIG2014  \\\n",
       "0           0.000000     2.493773     2.682083     2.636187     2.921500   \n",
       "1          -5.254530     0.887909    -0.038355    -0.469783    -0.986097   \n",
       "2          -2.365881    -0.963930    -0.973943    -0.006924    -0.762969   \n",
       "3           3.261349     5.130513     5.850458     5.292073     6.161501   \n",
       "4           0.614245     2.723344     3.062896     3.162262     4.026429   \n",
       "5           1.917501     0.578434     1.186314     1.522549     0.563489   \n",
       "6         -12.929847     0.587728     1.416798    -0.955359   -11.460949   \n",
       "7          12.609078     4.278167     6.899802     6.376679     9.168478   \n",
       "8           0.834503     3.294766     0.827785     0.057853    -0.091449   \n",
       "9          -5.151429     1.276797     1.495016     1.649031     2.203551   \n",
       "10          5.473351     7.795086     7.512104     8.492707     9.117126   \n",
       "11         -6.181756     0.242487    -0.409588    -1.671074    -1.941757   \n",
       "12          7.179090     4.848991     4.843736     6.150901     6.436204   \n",
       "13         -3.130827    16.246186    16.091188    16.784065    10.637447   \n",
       "14          6.268893     8.925935    10.561534    11.079296    13.202431   \n",
       "15          4.702641     2.953730     3.703741     1.655839     3.977992   \n",
       "16         -9.742408     4.622184     5.086274     3.508325    -1.314307   \n",
       "17         15.468110     1.311712     0.507040     3.321347     6.047525   \n",
       "18         -8.268277    -2.635449    -3.393092    -3.135896    -5.111479   \n",
       "19          0.595336     0.090413    -0.464677     1.323932     0.286119   \n",
       "20         -1.589863     1.941776    -0.178103     2.301114     1.888640   \n",
       "21         -4.242985    -1.362919     0.469895    -2.140359    -2.254523   \n",
       "22         -0.345174     2.033035     0.963892     1.536343    -0.478285   \n",
       "23         -5.595970     2.073649     0.776105     0.975774    -0.241894   \n",
       "24          4.929062     0.827587    -0.298191     0.722210     2.493115   \n",
       "25         -3.917566     3.612639     3.257604     1.717501     1.118979   \n",
       "26         -4.395455     4.286075     4.593951     5.051165     4.922265   \n",
       "27         -2.370446    -1.951728    -0.914581    -0.504689    -0.537824   \n",
       "28          0.011560     1.305812     0.394301     1.783298     1.689162   \n",
       "29         -3.605740    -0.822957    -1.872690    -1.003595    -2.134072   \n",
       "30         -0.115833    -0.993982    -0.889266    -0.154827    -0.458795   \n",
       "31          5.657818     3.754503     3.343163     6.905091     5.146804   \n",
       "32         -2.186516     0.577623     1.178135     1.185936     1.783368   \n",
       "33         14.148840    -1.942334     6.142878     6.565982     9.763662   \n",
       "34          3.294294     0.918480     1.773536     0.608106     4.345173   \n",
       "35         -5.509389    -0.789559    -2.093922    -2.140785    -2.868381   \n",
       "36         -1.019675     2.163570    -1.726107    -2.408853    -5.738621   \n",
       "37         -9.267874     0.310701    -0.963243    -1.791701    -3.130145   \n",
       "38          6.453184     4.365764     5.258187     5.932176     5.279168   \n",
       "39         -1.666950    10.715179    16.716664    22.949497    14.080772   \n",
       "40         -1.105564    -1.900104    -1.878444     0.335559    -0.055998   \n",
       "41          0.967937     3.614843     3.929176     5.064632     2.750342   \n",
       "42          6.148133     5.617206     3.885453     3.054669     7.349495   \n",
       "43         -1.530139     1.552816     0.503431    -0.058645    -0.161708   \n",
       "44         -3.036388    -1.483198    -0.632746    -0.701521    -0.066319   \n",
       "45         10.365420     4.472883     6.269019     7.244263     9.607938   \n",
       "46          1.093369     3.550552     6.513612     4.626817     1.715693   \n",
       "47          5.295128     3.999341     5.375475     3.586588     4.550168   \n",
       "48          4.361336     7.456866     8.764683     7.132347    10.003069   \n",
       "49          4.902266     0.776426     1.451720     3.053374     1.683429   \n",
       "50         -1.092645     0.897099    -2.464212    -0.352951    -2.290191   \n",
       "51         -1.072502     4.396815     5.054575     3.455999     2.208119   \n",
       "52          4.950999     6.906540     4.878573     4.473256     7.799901   \n",
       "53         -3.933336     1.901071     0.828402    -0.825701    -1.779985   \n",
       "54         -0.247295    -0.777306    -0.834993     0.066337    -0.421473   \n",
       "55         -1.750320    -0.379930    10.019202     4.863492    -4.816885   \n",
       "56          0.000000   -14.533549   -14.982183   -13.803542   -18.263032   \n",
       "\n",
       "    RNETMIG2015  RNETMIG2016  RNETMIG2017  RNETMIG2018  RNETMIG2019  \n",
       "0      3.260435     3.252788     2.871957     2.153911     1.818059  \n",
       "1     -2.061965    -2.490484    -1.837048    -2.134447    -2.859713  \n",
       "2     -1.388437    -1.241784    -0.557370    -0.922755    -1.111173  \n",
       "3      7.277358     7.150074     6.198168     5.225519     5.203720  \n",
       "4      4.987285     5.261078     4.021194     3.044951     2.312083  \n",
       "5      0.626357     0.745172     1.090366     1.773786     2.483744  \n",
       "6     -7.997118    -3.897349   -10.992765   -13.859140   -12.031221  \n",
       "7      9.597577    11.964782    10.878879    12.962934    13.687161  \n",
       "8      1.075446     1.486269     2.009593     0.958896     0.923429  \n",
       "9      1.984957     0.500044    -0.629909    -2.130954    -3.276681  \n",
       "10    12.902098    10.634370     8.032033     9.410633     7.311426  \n",
       "11    -3.756242    -4.137741    -2.616537    -1.533419    -2.728391  \n",
       "12     6.713849     5.382576     6.252676     7.631475     7.254377  \n",
       "13    12.296969     8.092770     6.538613     3.481678     0.569887  \n",
       "14    16.491494    18.258305    15.616389    12.657811    10.420286  \n",
       "15     5.719232     7.107500     5.868999     5.434037     6.127537  \n",
       "16     0.317282    -1.303336    -6.875992    -5.974019    -6.207022  \n",
       "17     5.947892    13.145583    15.602505    13.921714    15.562524  \n",
       "18    -6.028806    -6.905914    -6.649699    -7.328003    -6.755453  \n",
       "19    -0.934854     0.694721     1.050827     2.846129     2.737025  \n",
       "20     0.567227     0.053100     0.618850    -0.656262    -0.744961  \n",
       "21    -1.321287    -3.615554    -4.291045    -2.581066    -2.833807  \n",
       "22     0.484598     0.754274     1.766390     0.251531    -0.173819  \n",
       "23     0.051995    -1.440045    -5.342778    -5.248091    -4.942803  \n",
       "24    -0.473902     3.478746     4.083380     4.968453     5.564109  \n",
       "25     0.275479    -1.383949    -0.238959    -1.416954    -1.432606  \n",
       "26     2.612559     2.069639     3.476476     1.619656    -0.268309  \n",
       "27    -1.527775     0.057639     0.780980    -0.300042    -1.053932  \n",
       "28     0.829590     2.493826     3.270817     2.832317     1.632242  \n",
       "29    -3.047029    -2.403450    -1.672565    -4.275713    -3.125981  \n",
       "30     0.122692    -0.033720     1.182732     0.500152     0.781953  \n",
       "31     5.514670     7.574829     9.217801     5.947528     5.960244  \n",
       "32     0.927174     2.058525     0.545850    -0.028114    -0.479272  \n",
       "33    12.403407    12.971212    13.758376    15.559809    13.831198  \n",
       "34     2.061662     4.098322     4.916959     3.756866     4.729513  \n",
       "35    -3.080788    -3.261555    -1.374719    -2.792216    -3.113650  \n",
       "36    -4.161423    -2.261703    -2.592619    -1.819561    -0.281652  \n",
       "37    -4.174457    -5.379085    -6.127425    -6.406096    -6.920598  \n",
       "38     6.612526     9.049543     8.311209     8.409553     7.812475  \n",
       "39    15.315123    -6.451442    -5.683143    -1.711806    -0.415751  \n",
       "40    -0.500254    -0.335715     0.934403     0.081934    -0.287861  \n",
       "41     4.513278     0.852239    -1.553900    -0.013974     2.103529  \n",
       "42    10.517812    15.722384    11.095753     7.451555     6.932692  \n",
       "43    -0.927692    -0.973673     0.284710     0.855382    -0.004375  \n",
       "44    -0.587121    -0.319949    -1.596256     1.782437     0.406111  \n",
       "45    11.600778    11.241529    11.026696    11.161729    11.484168  \n",
       "46     0.454461     5.211464     6.635312     1.345082     1.567465  \n",
       "47     5.190219     6.072290     7.675288     7.543825     6.661665  \n",
       "48    10.644301     8.369711     6.510551     5.448428     6.618846  \n",
       "49     3.858608     9.016381     8.864528     6.983989     6.656804  \n",
       "50    -0.028790    -2.507861     1.543268     0.440457    -0.479033  \n",
       "51     1.521520     1.273915     2.382525     0.786684     0.673014  \n",
       "52    10.408549    13.254138    12.865626     9.468242     8.135276  \n",
       "53    -2.551781    -4.330978    -5.336583    -4.484031    -4.127417  \n",
       "54    -1.068755    -0.628600     0.729926     0.763089     0.327262  \n",
       "55     0.207166    -7.182252   -13.322489    -5.725739    -0.819814  \n",
       "56   -18.480599   -19.848533   -23.228903   -37.860351     2.421463  \n",
       "\n",
       "[57 rows x 151 columns]"
      ],
      "text/html": "<div>\n<style scoped>\n    .dataframe tbody tr th:only-of-type {\n        vertical-align: middle;\n    }\n\n    .dataframe tbody tr th {\n        vertical-align: top;\n    }\n\n    .dataframe thead th {\n        text-align: right;\n    }\n</style>\n<table border=\"1\" class=\"dataframe\">\n  <thead>\n    <tr style=\"text-align: right;\">\n      <th></th>\n      <th>SUMLEV</th>\n      <th>REGION</th>\n      <th>DIVISION</th>\n      <th>STATE</th>\n      <th>NAME</th>\n      <th>CENSUS2010POP</th>\n      <th>ESTIMATESBASE2010</th>\n      <th>POPESTIMATE2010</th>\n      <th>POPESTIMATE2011</th>\n      <th>POPESTIMATE2012</th>\n      <th>...</th>\n      <th>RDOMESTICMIG2019</th>\n      <th>RNETMIG2011</th>\n      <th>RNETMIG2012</th>\n      <th>RNETMIG2013</th>\n      <th>RNETMIG2014</th>\n      <th>RNETMIG2015</th>\n      <th>RNETMIG2016</th>\n      <th>RNETMIG2017</th>\n      <th>RNETMIG2018</th>\n      <th>RNETMIG2019</th>\n    </tr>\n  </thead>\n  <tbody>\n    <tr>\n      <th>0</th>\n      <td>10</td>\n      <td>0</td>\n      <td>0</td>\n      <td>0</td>\n      <td>United States</td>\n      <td>308745538</td>\n      <td>308758105</td>\n      <td>309321666</td>\n      <td>311556874</td>\n      <td>313830990</td>\n      <td>...</td>\n      <td>0.000000</td>\n      <td>2.493773</td>\n      <td>2.682083</td>\n      <td>2.636187</td>\n      <td>2.921500</td>\n      <td>3.260435</td>\n      <td>3.252788</td>\n      <td>2.871957</td>\n      <td>2.153911</td>\n      <td>1.818059</td>\n    </tr>\n    <tr>\n      <th>1</th>\n      <td>20</td>\n      <td>1</td>\n      <td>0</td>\n      <td>0</td>\n      <td>Northeast Region</td>\n      <td>55317240</td>\n      <td>55318443</td>\n      <td>55380134</td>\n      <td>55604223</td>\n      <td>55775216</td>\n      <td>...</td>\n      <td>-5.254530</td>\n      <td>0.887909</td>\n      <td>-0.038355</td>\n      <td>-0.469783</td>\n      <td>-0.986097</td>\n      <td>-2.061965</td>\n      <td>-2.490484</td>\n      <td>-1.837048</td>\n      <td>-2.134447</td>\n      <td>-2.859713</td>\n    </tr>\n    <tr>\n      <th>2</th>\n      <td>20</td>\n      <td>2</td>\n      <td>0</td>\n      <td>0</td>\n      <td>Midwest Region</td>\n      <td>66927001</td>\n      <td>66929725</td>\n      <td>66974416</td>\n      <td>67157800</td>\n      <td>67336743</td>\n      <td>...</td>\n      <td>-2.365881</td>\n      <td>-0.963930</td>\n      <td>-0.973943</td>\n      <td>-0.006924</td>\n      <td>-0.762969</td>\n      <td>-1.388437</td>\n      <td>-1.241784</td>\n      <td>-0.557370</td>\n      <td>-0.922755</td>\n      <td>-1.111173</td>\n    </tr>\n    <tr>\n      <th>3</th>\n      <td>20</td>\n      <td>3</td>\n      <td>0</td>\n      <td>0</td>\n      <td>South Region</td>\n      <td>114555744</td>\n      <td>114563030</td>\n      <td>114866680</td>\n      <td>116006522</td>\n      <td>117241208</td>\n      <td>...</td>\n      <td>3.261349</td>\n      <td>5.130513</td>\n      <td>5.850458</td>\n      <td>5.292073</td>\n      <td>6.161501</td>\n      <td>7.277358</td>\n      <td>7.150074</td>\n      <td>6.198168</td>\n      <td>5.225519</td>\n      <td>5.203720</td>\n    </tr>\n    <tr>\n      <th>4</th>\n      <td>20</td>\n      <td>4</td>\n      <td>0</td>\n      <td>0</td>\n      <td>West Region</td>\n      <td>71945553</td>\n      <td>71946907</td>\n      <td>72100436</td>\n      <td>72788329</td>\n      <td>73477823</td>\n      <td>...</td>\n      <td>0.614245</td>\n      <td>2.723344</td>\n      <td>3.062896</td>\n      <td>3.162262</td>\n      <td>4.026429</td>\n      <td>4.987285</td>\n      <td>5.261078</td>\n      <td>4.021194</td>\n      <td>3.044951</td>\n      <td>2.312083</td>\n    </tr>\n    <tr>\n      <th>5</th>\n      <td>40</td>\n      <td>3</td>\n      <td>6</td>\n      <td>1</td>\n      <td>Alabama</td>\n      <td>4779736</td>\n      <td>4780125</td>\n      <td>4785437</td>\n      <td>4799069</td>\n      <td>4815588</td>\n      <td>...</td>\n      <td>1.917501</td>\n      <td>0.578434</td>\n      <td>1.186314</td>\n      <td>1.522549</td>\n      <td>0.563489</td>\n      <td>0.626357</td>\n      <td>0.745172</td>\n      <td>1.090366</td>\n      <td>1.773786</td>\n      <td>2.483744</td>\n    </tr>\n    <tr>\n      <th>6</th>\n      <td>40</td>\n      <td>4</td>\n      <td>9</td>\n      <td>2</td>\n      <td>Alaska</td>\n      <td>710231</td>\n      <td>710249</td>\n      <td>713910</td>\n      <td>722128</td>\n      <td>730443</td>\n      <td>...</td>\n      <td>-12.929847</td>\n      <td>0.587728</td>\n      <td>1.416798</td>\n      <td>-0.955359</td>\n      <td>-11.460949</td>\n      <td>-7.997118</td>\n      <td>-3.897349</td>\n      <td>-10.992765</td>\n      <td>-13.859140</td>\n      <td>-12.031221</td>\n    </tr>\n    <tr>\n      <th>7</th>\n      <td>40</td>\n      <td>4</td>\n      <td>8</td>\n      <td>4</td>\n      <td>Arizona</td>\n      <td>6392017</td>\n      <td>6392288</td>\n      <td>6407172</td>\n      <td>6472643</td>\n      <td>6554978</td>\n      <td>...</td>\n      <td>12.609078</td>\n      <td>4.278167</td>\n      <td>6.899802</td>\n      <td>6.376679</td>\n      <td>9.168478</td>\n      <td>9.597577</td>\n      <td>11.964782</td>\n      <td>10.878879</td>\n      <td>12.962934</td>\n      <td>13.687161</td>\n    </tr>\n    <tr>\n      <th>8</th>\n      <td>40</td>\n      <td>3</td>\n      <td>7</td>\n      <td>5</td>\n      <td>Arkansas</td>\n      <td>2915918</td>\n      <td>2916031</td>\n      <td>2921964</td>\n      <td>2940667</td>\n      <td>2952164</td>\n      <td>...</td>\n      <td>0.834503</td>\n      <td>3.294766</td>\n      <td>0.827785</td>\n      <td>0.057853</td>\n      <td>-0.091449</td>\n      <td>1.075446</td>\n      <td>1.486269</td>\n      <td>2.009593</td>\n      <td>0.958896</td>\n      <td>0.923429</td>\n    </tr>\n    <tr>\n      <th>9</th>\n      <td>40</td>\n      <td>4</td>\n      <td>9</td>\n      <td>6</td>\n      <td>California</td>\n      <td>37253956</td>\n      <td>37254519</td>\n      <td>37319502</td>\n      <td>37638369</td>\n      <td>37948800</td>\n      <td>...</td>\n      <td>-5.151429</td>\n      <td>1.276797</td>\n      <td>1.495016</td>\n      <td>1.649031</td>\n      <td>2.203551</td>\n      <td>1.984957</td>\n      <td>0.500044</td>\n      <td>-0.629909</td>\n      <td>-2.130954</td>\n      <td>-3.276681</td>\n    </tr>\n    <tr>\n      <th>10</th>\n      <td>40</td>\n      <td>4</td>\n      <td>8</td>\n      <td>8</td>\n      <td>Colorado</td>\n      <td>5029196</td>\n      <td>5029319</td>\n      <td>5047349</td>\n      <td>5121108</td>\n      <td>5192647</td>\n      <td>...</td>\n      <td>5.473351</td>\n      <td>7.795086</td>\n      <td>7.512104</td>\n      <td>8.492707</td>\n      <td>9.117126</td>\n      <td>12.902098</td>\n      <td>10.634370</td>\n      <td>8.032033</td>\n      <td>9.410633</td>\n      <td>7.311426</td>\n    </tr>\n    <tr>\n      <th>11</th>\n      <td>40</td>\n      <td>1</td>\n      <td>1</td>\n      <td>9</td>\n      <td>Connecticut</td>\n      <td>3574097</td>\n      <td>3574147</td>\n      <td>3579114</td>\n      <td>3588283</td>\n      <td>3594547</td>\n      <td>...</td>\n      <td>-6.181756</td>\n      <td>0.242487</td>\n      <td>-0.409588</td>\n      <td>-1.671074</td>\n      <td>-1.941757</td>\n      <td>-3.756242</td>\n      <td>-4.137741</td>\n      <td>-2.616537</td>\n      <td>-1.533419</td>\n      <td>-2.728391</td>\n    </tr>\n    <tr>\n      <th>12</th>\n      <td>40</td>\n      <td>3</td>\n      <td>5</td>\n      <td>10</td>\n      <td>Delaware</td>\n      <td>897934</td>\n      <td>897937</td>\n      <td>899593</td>\n      <td>907381</td>\n      <td>915179</td>\n      <td>...</td>\n      <td>7.179090</td>\n      <td>4.848991</td>\n      <td>4.843736</td>\n      <td>6.150901</td>\n      <td>6.436204</td>\n      <td>6.713849</td>\n      <td>5.382576</td>\n      <td>6.252676</td>\n      <td>7.631475</td>\n      <td>7.254377</td>\n    </tr>\n    <tr>\n      <th>13</th>\n      <td>40</td>\n      <td>3</td>\n      <td>5</td>\n      <td>11</td>\n      <td>District of Columbia</td>\n      <td>601723</td>\n      <td>601767</td>\n      <td>605226</td>\n      <td>619800</td>\n      <td>634924</td>\n      <td>...</td>\n      <td>-3.130827</td>\n      <td>16.246186</td>\n      <td>16.091188</td>\n      <td>16.784065</td>\n      <td>10.637447</td>\n      <td>12.296969</td>\n      <td>8.092770</td>\n      <td>6.538613</td>\n      <td>3.481678</td>\n      <td>0.569887</td>\n    </tr>\n    <tr>\n      <th>14</th>\n      <td>40</td>\n      <td>3</td>\n      <td>5</td>\n      <td>12</td>\n      <td>Florida</td>\n      <td>18801310</td>\n      <td>18804564</td>\n      <td>18845537</td>\n      <td>19053237</td>\n      <td>19297822</td>\n      <td>...</td>\n      <td>6.268893</td>\n      <td>8.925935</td>\n      <td>10.561534</td>\n      <td>11.079296</td>\n      <td>13.202431</td>\n      <td>16.491494</td>\n      <td>18.258305</td>\n      <td>15.616389</td>\n      <td>12.657811</td>\n      <td>10.420286</td>\n    </tr>\n    <tr>\n      <th>15</th>\n      <td>40</td>\n      <td>3</td>\n      <td>5</td>\n      <td>13</td>\n      <td>Georgia</td>\n      <td>9687653</td>\n      <td>9688729</td>\n      <td>9711881</td>\n      <td>9802431</td>\n      <td>9901430</td>\n      <td>...</td>\n      <td>4.702641</td>\n      <td>2.953730</td>\n      <td>3.703741</td>\n      <td>1.655839</td>\n      <td>3.977992</td>\n      <td>5.719232</td>\n      <td>7.107500</td>\n      <td>5.868999</td>\n      <td>5.434037</td>\n      <td>6.127537</td>\n    </tr>\n    <tr>\n      <th>16</th>\n      <td>40</td>\n      <td>4</td>\n      <td>9</td>\n      <td>15</td>\n      <td>Hawaii</td>\n      <td>1360301</td>\n      <td>1360307</td>\n      <td>1363963</td>\n      <td>1379329</td>\n      <td>1394804</td>\n      <td>...</td>\n      <td>-9.742408</td>\n      <td>4.622184</td>\n      <td>5.086274</td>\n      <td>3.508325</td>\n      <td>-1.314307</td>\n      <td>0.317282</td>\n      <td>-1.303336</td>\n      <td>-6.875992</td>\n      <td>-5.974019</td>\n      <td>-6.207022</td>\n    </tr>\n    <tr>\n      <th>17</th>\n      <td>40</td>\n      <td>4</td>\n      <td>8</td>\n      <td>16</td>\n      <td>Idaho</td>\n      <td>1567582</td>\n      <td>1567657</td>\n      <td>1570746</td>\n      <td>1583910</td>\n      <td>1595324</td>\n      <td>...</td>\n      <td>15.468110</td>\n      <td>1.311712</td>\n      <td>0.507040</td>\n      <td>3.321347</td>\n      <td>6.047525</td>\n      <td>5.947892</td>\n      <td>13.145583</td>\n      <td>15.602505</td>\n      <td>13.921714</td>\n      <td>15.562524</td>\n    </tr>\n    <tr>\n      <th>18</th>\n      <td>40</td>\n      <td>2</td>\n      <td>3</td>\n      <td>17</td>\n      <td>Illinois</td>\n      <td>12830632</td>\n      <td>12831572</td>\n      <td>12840503</td>\n      <td>12867454</td>\n      <td>12882510</td>\n      <td>...</td>\n      <td>-8.268277</td>\n      <td>-2.635449</td>\n      <td>-3.393092</td>\n      <td>-3.135896</td>\n      <td>-5.111479</td>\n      <td>-6.028806</td>\n      <td>-6.905914</td>\n      <td>-6.649699</td>\n      <td>-7.328003</td>\n      <td>-6.755453</td>\n    </tr>\n    <tr>\n      <th>19</th>\n      <td>40</td>\n      <td>2</td>\n      <td>3</td>\n      <td>18</td>\n      <td>Indiana</td>\n      <td>6483802</td>\n      <td>6484051</td>\n      <td>6490432</td>\n      <td>6516528</td>\n      <td>6537703</td>\n      <td>...</td>\n      <td>0.595336</td>\n      <td>0.090413</td>\n      <td>-0.464677</td>\n      <td>1.323932</td>\n      <td>0.286119</td>\n      <td>-0.934854</td>\n      <td>0.694721</td>\n      <td>1.050827</td>\n      <td>2.846129</td>\n      <td>2.737025</td>\n    </tr>\n    <tr>\n      <th>20</th>\n      <td>40</td>\n      <td>2</td>\n      <td>4</td>\n      <td>19</td>\n      <td>Iowa</td>\n      <td>3046355</td>\n      <td>3046871</td>\n      <td>3050745</td>\n      <td>3066336</td>\n      <td>3076190</td>\n      <td>...</td>\n      <td>-1.589863</td>\n      <td>1.941776</td>\n      <td>-0.178103</td>\n      <td>2.301114</td>\n      <td>1.888640</td>\n      <td>0.567227</td>\n      <td>0.053100</td>\n      <td>0.618850</td>\n      <td>-0.656262</td>\n      <td>-0.744961</td>\n    </tr>\n    <tr>\n      <th>21</th>\n      <td>40</td>\n      <td>2</td>\n      <td>4</td>\n      <td>20</td>\n      <td>Kansas</td>\n      <td>2853118</td>\n      <td>2853123</td>\n      <td>2858190</td>\n      <td>2869225</td>\n      <td>2885257</td>\n      <td>...</td>\n      <td>-4.242985</td>\n      <td>-1.362919</td>\n      <td>0.469895</td>\n      <td>-2.140359</td>\n      <td>-2.254523</td>\n      <td>-1.321287</td>\n      <td>-3.615554</td>\n      <td>-4.291045</td>\n      <td>-2.581066</td>\n      <td>-2.833807</td>\n    </tr>\n    <tr>\n      <th>22</th>\n      <td>40</td>\n      <td>3</td>\n      <td>6</td>\n      <td>21</td>\n      <td>Kentucky</td>\n      <td>4339367</td>\n      <td>4339333</td>\n      <td>4348181</td>\n      <td>4369821</td>\n      <td>4386346</td>\n      <td>...</td>\n      <td>-0.345174</td>\n      <td>2.033035</td>\n      <td>0.963892</td>\n      <td>1.536343</td>\n      <td>-0.478285</td>\n      <td>0.484598</td>\n      <td>0.754274</td>\n      <td>1.766390</td>\n      <td>0.251531</td>\n      <td>-0.173819</td>\n    </tr>\n    <tr>\n      <th>23</th>\n      <td>40</td>\n      <td>3</td>\n      <td>7</td>\n      <td>22</td>\n      <td>Louisiana</td>\n      <td>4533372</td>\n      <td>4533487</td>\n      <td>4544532</td>\n      <td>4575625</td>\n      <td>4600972</td>\n      <td>...</td>\n      <td>-5.595970</td>\n      <td>2.073649</td>\n      <td>0.776105</td>\n      <td>0.975774</td>\n      <td>-0.241894</td>\n      <td>0.051995</td>\n      <td>-1.440045</td>\n      <td>-5.342778</td>\n      <td>-5.248091</td>\n      <td>-4.942803</td>\n    </tr>\n    <tr>\n      <th>24</th>\n      <td>40</td>\n      <td>1</td>\n      <td>1</td>\n      <td>23</td>\n      <td>Maine</td>\n      <td>1328361</td>\n      <td>1328358</td>\n      <td>1327629</td>\n      <td>1328284</td>\n      <td>1327729</td>\n      <td>...</td>\n      <td>4.929062</td>\n      <td>0.827587</td>\n      <td>-0.298191</td>\n      <td>0.722210</td>\n      <td>2.493115</td>\n      <td>-0.473902</td>\n      <td>3.478746</td>\n      <td>4.083380</td>\n      <td>4.968453</td>\n      <td>5.564109</td>\n    </tr>\n    <tr>\n      <th>25</th>\n      <td>40</td>\n      <td>3</td>\n      <td>5</td>\n      <td>24</td>\n      <td>Maryland</td>\n      <td>5773552</td>\n      <td>5773794</td>\n      <td>5788645</td>\n      <td>5839419</td>\n      <td>5886992</td>\n      <td>...</td>\n      <td>-3.917566</td>\n      <td>3.612639</td>\n      <td>3.257604</td>\n      <td>1.717501</td>\n      <td>1.118979</td>\n      <td>0.275479</td>\n      <td>-1.383949</td>\n      <td>-0.238959</td>\n      <td>-1.416954</td>\n      <td>-1.432606</td>\n    </tr>\n    <tr>\n      <th>26</th>\n      <td>40</td>\n      <td>1</td>\n      <td>1</td>\n      <td>25</td>\n      <td>Massachusetts</td>\n      <td>6547629</td>\n      <td>6547785</td>\n      <td>6566307</td>\n      <td>6613583</td>\n      <td>6663005</td>\n      <td>...</td>\n      <td>-4.395455</td>\n      <td>4.286075</td>\n      <td>4.593951</td>\n      <td>5.051165</td>\n      <td>4.922265</td>\n      <td>2.612559</td>\n      <td>2.069639</td>\n      <td>3.476476</td>\n      <td>1.619656</td>\n      <td>-0.268309</td>\n    </tr>\n    <tr>\n      <th>27</th>\n      <td>40</td>\n      <td>2</td>\n      <td>3</td>\n      <td>26</td>\n      <td>Michigan</td>\n      <td>9883640</td>\n      <td>9884116</td>\n      <td>9877510</td>\n      <td>9882412</td>\n      <td>9897145</td>\n      <td>...</td>\n      <td>-2.370446</td>\n      <td>-1.951728</td>\n      <td>-0.914581</td>\n      <td>-0.504689</td>\n      <td>-0.537824</td>\n      <td>-1.527775</td>\n      <td>0.057639</td>\n      <td>0.780980</td>\n      <td>-0.300042</td>\n      <td>-1.053932</td>\n    </tr>\n    <tr>\n      <th>28</th>\n      <td>40</td>\n      <td>2</td>\n      <td>4</td>\n      <td>27</td>\n      <td>Minnesota</td>\n      <td>5303925</td>\n      <td>5303927</td>\n      <td>5310828</td>\n      <td>5346143</td>\n      <td>5376643</td>\n      <td>...</td>\n      <td>0.011560</td>\n      <td>1.305812</td>\n      <td>0.394301</td>\n      <td>1.783298</td>\n      <td>1.689162</td>\n      <td>0.829590</td>\n      <td>2.493826</td>\n      <td>3.270817</td>\n      <td>2.832317</td>\n      <td>1.632242</td>\n    </tr>\n    <tr>\n      <th>29</th>\n      <td>40</td>\n      <td>3</td>\n      <td>6</td>\n      <td>28</td>\n      <td>Mississippi</td>\n      <td>2967297</td>\n      <td>2968130</td>\n      <td>2970548</td>\n      <td>2978731</td>\n      <td>2983816</td>\n      <td>...</td>\n      <td>-3.605740</td>\n      <td>-0.822957</td>\n      <td>-1.872690</td>\n      <td>-1.003595</td>\n      <td>-2.134072</td>\n      <td>-3.047029</td>\n      <td>-2.403450</td>\n      <td>-1.672565</td>\n      <td>-4.275713</td>\n      <td>-3.125981</td>\n    </tr>\n    <tr>\n      <th>30</th>\n      <td>40</td>\n      <td>2</td>\n      <td>4</td>\n      <td>29</td>\n      <td>Missouri</td>\n      <td>5988927</td>\n      <td>5988950</td>\n      <td>5995974</td>\n      <td>6010275</td>\n      <td>6024367</td>\n      <td>...</td>\n      <td>-0.115833</td>\n      <td>-0.993982</td>\n      <td>-0.889266</td>\n      <td>-0.154827</td>\n      <td>-0.458795</td>\n      <td>0.122692</td>\n      <td>-0.033720</td>\n      <td>1.182732</td>\n      <td>0.500152</td>\n      <td>0.781953</td>\n    </tr>\n    <tr>\n      <th>31</th>\n      <td>40</td>\n      <td>4</td>\n      <td>8</td>\n      <td>30</td>\n      <td>Montana</td>\n      <td>989415</td>\n      <td>989407</td>\n      <td>990697</td>\n      <td>997316</td>\n      <td>1003783</td>\n      <td>...</td>\n      <td>5.657818</td>\n      <td>3.754503</td>\n      <td>3.343163</td>\n      <td>6.905091</td>\n      <td>5.146804</td>\n      <td>5.514670</td>\n      <td>7.574829</td>\n      <td>9.217801</td>\n      <td>5.947528</td>\n      <td>5.960244</td>\n    </tr>\n    <tr>\n      <th>32</th>\n      <td>40</td>\n      <td>2</td>\n      <td>4</td>\n      <td>31</td>\n      <td>Nebraska</td>\n      <td>1826341</td>\n      <td>1826305</td>\n      <td>1829542</td>\n      <td>1840672</td>\n      <td>1853303</td>\n      <td>...</td>\n      <td>-2.186516</td>\n      <td>0.577623</td>\n      <td>1.178135</td>\n      <td>1.185936</td>\n      <td>1.783368</td>\n      <td>0.927174</td>\n      <td>2.058525</td>\n      <td>0.545850</td>\n      <td>-0.028114</td>\n      <td>-0.479272</td>\n    </tr>\n    <tr>\n      <th>33</th>\n      <td>40</td>\n      <td>4</td>\n      <td>8</td>\n      <td>32</td>\n      <td>Nevada</td>\n      <td>2700551</td>\n      <td>2700677</td>\n      <td>2702405</td>\n      <td>2712730</td>\n      <td>2743996</td>\n      <td>...</td>\n      <td>14.148840</td>\n      <td>-1.942334</td>\n      <td>6.142878</td>\n      <td>6.565982</td>\n      <td>9.763662</td>\n      <td>12.403407</td>\n      <td>12.971212</td>\n      <td>13.758376</td>\n      <td>15.559809</td>\n      <td>13.831198</td>\n    </tr>\n    <tr>\n      <th>34</th>\n      <td>40</td>\n      <td>1</td>\n      <td>1</td>\n      <td>33</td>\n      <td>New Hampshire</td>\n      <td>1316470</td>\n      <td>1316462</td>\n      <td>1316762</td>\n      <td>1320202</td>\n      <td>1324232</td>\n      <td>...</td>\n      <td>3.294294</td>\n      <td>0.918480</td>\n      <td>1.773536</td>\n      <td>0.608106</td>\n      <td>4.345173</td>\n      <td>2.061662</td>\n      <td>4.098322</td>\n      <td>4.916959</td>\n      <td>3.756866</td>\n      <td>4.729513</td>\n    </tr>\n    <tr>\n      <th>35</th>\n      <td>40</td>\n      <td>1</td>\n      <td>2</td>\n      <td>34</td>\n      <td>New Jersey</td>\n      <td>8791894</td>\n      <td>8791978</td>\n      <td>8799446</td>\n      <td>8828117</td>\n      <td>8844942</td>\n      <td>...</td>\n      <td>-5.509389</td>\n      <td>-0.789559</td>\n      <td>-2.093922</td>\n      <td>-2.140785</td>\n      <td>-2.868381</td>\n      <td>-3.080788</td>\n      <td>-3.261555</td>\n      <td>-1.374719</td>\n      <td>-2.792216</td>\n      <td>-3.113650</td>\n    </tr>\n    <tr>\n      <th>36</th>\n      <td>40</td>\n      <td>4</td>\n      <td>8</td>\n      <td>35</td>\n      <td>New Mexico</td>\n      <td>2059179</td>\n      <td>2059199</td>\n      <td>2064552</td>\n      <td>2080450</td>\n      <td>2087309</td>\n      <td>...</td>\n      <td>-1.019675</td>\n      <td>2.163570</td>\n      <td>-1.726107</td>\n      <td>-2.408853</td>\n      <td>-5.738621</td>\n      <td>-4.161423</td>\n      <td>-2.261703</td>\n      <td>-2.592619</td>\n      <td>-1.819561</td>\n      <td>-0.281652</td>\n    </tr>\n    <tr>\n      <th>37</th>\n      <td>40</td>\n      <td>1</td>\n      <td>2</td>\n      <td>36</td>\n      <td>New York</td>\n      <td>19378102</td>\n      <td>19378144</td>\n      <td>19399878</td>\n      <td>19499241</td>\n      <td>19572932</td>\n      <td>...</td>\n      <td>-9.267874</td>\n      <td>0.310701</td>\n      <td>-0.963243</td>\n      <td>-1.791701</td>\n      <td>-3.130145</td>\n      <td>-4.174457</td>\n      <td>-5.379085</td>\n      <td>-6.127425</td>\n      <td>-6.406096</td>\n      <td>-6.920598</td>\n    </tr>\n    <tr>\n      <th>38</th>\n      <td>40</td>\n      <td>3</td>\n      <td>5</td>\n      <td>37</td>\n      <td>North Carolina</td>\n      <td>9535483</td>\n      <td>9535751</td>\n      <td>9574323</td>\n      <td>9657592</td>\n      <td>9749476</td>\n      <td>...</td>\n      <td>6.453184</td>\n      <td>4.365764</td>\n      <td>5.258187</td>\n      <td>5.932176</td>\n      <td>5.279168</td>\n      <td>6.612526</td>\n      <td>9.049543</td>\n      <td>8.311209</td>\n      <td>8.409553</td>\n      <td>7.812475</td>\n    </tr>\n    <tr>\n      <th>39</th>\n      <td>40</td>\n      <td>2</td>\n      <td>4</td>\n      <td>38</td>\n      <td>North Dakota</td>\n      <td>672591</td>\n      <td>672576</td>\n      <td>674715</td>\n      <td>685225</td>\n      <td>701176</td>\n      <td>...</td>\n      <td>-1.666950</td>\n      <td>10.715179</td>\n      <td>16.716664</td>\n      <td>22.949497</td>\n      <td>14.080772</td>\n      <td>15.315123</td>\n      <td>-6.451442</td>\n      <td>-5.683143</td>\n      <td>-1.711806</td>\n      <td>-0.415751</td>\n    </tr>\n    <tr>\n      <th>40</th>\n      <td>40</td>\n      <td>2</td>\n      <td>3</td>\n      <td>39</td>\n      <td>Ohio</td>\n      <td>11536504</td>\n      <td>11536751</td>\n      <td>11539336</td>\n      <td>11544663</td>\n      <td>11548923</td>\n      <td>...</td>\n      <td>-1.105564</td>\n      <td>-1.900104</td>\n      <td>-1.878444</td>\n      <td>0.335559</td>\n      <td>-0.055998</td>\n      <td>-0.500254</td>\n      <td>-0.335715</td>\n      <td>0.934403</td>\n      <td>0.081934</td>\n      <td>-0.287861</td>\n    </tr>\n    <tr>\n      <th>41</th>\n      <td>40</td>\n      <td>3</td>\n      <td>7</td>\n      <td>40</td>\n      <td>Oklahoma</td>\n      <td>3751351</td>\n      <td>3751582</td>\n      <td>3759944</td>\n      <td>3788379</td>\n      <td>3818814</td>\n      <td>...</td>\n      <td>0.967937</td>\n      <td>3.614843</td>\n      <td>3.929176</td>\n      <td>5.064632</td>\n      <td>2.750342</td>\n      <td>4.513278</td>\n      <td>0.852239</td>\n      <td>-1.553900</td>\n      <td>-0.013974</td>\n      <td>2.103529</td>\n    </tr>\n    <tr>\n      <th>42</th>\n      <td>40</td>\n      <td>4</td>\n      <td>9</td>\n      <td>41</td>\n      <td>Oregon</td>\n      <td>3831074</td>\n      <td>3831079</td>\n      <td>3837491</td>\n      <td>3872036</td>\n      <td>3899001</td>\n      <td>...</td>\n      <td>6.148133</td>\n      <td>5.617206</td>\n      <td>3.885453</td>\n      <td>3.054669</td>\n      <td>7.349495</td>\n      <td>10.517812</td>\n      <td>15.722384</td>\n      <td>11.095753</td>\n      <td>7.451555</td>\n      <td>6.932692</td>\n    </tr>\n    <tr>\n      <th>43</th>\n      <td>40</td>\n      <td>1</td>\n      <td>2</td>\n      <td>42</td>\n      <td>Pennsylvania</td>\n      <td>12702379</td>\n      <td>12702868</td>\n      <td>12711160</td>\n      <td>12745815</td>\n      <td>12767118</td>\n      <td>...</td>\n      <td>-1.530139</td>\n      <td>1.552816</td>\n      <td>0.503431</td>\n      <td>-0.058645</td>\n      <td>-0.161708</td>\n      <td>-0.927692</td>\n      <td>-0.973673</td>\n      <td>0.284710</td>\n      <td>0.855382</td>\n      <td>-0.004375</td>\n    </tr>\n    <tr>\n      <th>44</th>\n      <td>40</td>\n      <td>1</td>\n      <td>1</td>\n      <td>44</td>\n      <td>Rhode Island</td>\n      <td>1052567</td>\n      <td>1052964</td>\n      <td>1053959</td>\n      <td>1053649</td>\n      <td>1054621</td>\n      <td>...</td>\n      <td>-3.036388</td>\n      <td>-1.483198</td>\n      <td>-0.632746</td>\n      <td>-0.701521</td>\n      <td>-0.066319</td>\n      <td>-0.587121</td>\n      <td>-0.319949</td>\n      <td>-1.596256</td>\n      <td>1.782437</td>\n      <td>0.406111</td>\n    </tr>\n    <tr>\n      <th>45</th>\n      <td>40</td>\n      <td>3</td>\n      <td>5</td>\n      <td>45</td>\n      <td>South Carolina</td>\n      <td>4625364</td>\n      <td>4625366</td>\n      <td>4635649</td>\n      <td>4671994</td>\n      <td>4717354</td>\n      <td>...</td>\n      <td>10.365420</td>\n      <td>4.472883</td>\n      <td>6.269019</td>\n      <td>7.244263</td>\n      <td>9.607938</td>\n      <td>11.600778</td>\n      <td>11.241529</td>\n      <td>11.026696</td>\n      <td>11.161729</td>\n      <td>11.484168</td>\n    </tr>\n    <tr>\n      <th>46</th>\n      <td>40</td>\n      <td>2</td>\n      <td>4</td>\n      <td>46</td>\n      <td>South Dakota</td>\n      <td>814180</td>\n      <td>814198</td>\n      <td>816166</td>\n      <td>823579</td>\n      <td>833566</td>\n      <td>...</td>\n      <td>1.093369</td>\n      <td>3.550552</td>\n      <td>6.513612</td>\n      <td>4.626817</td>\n      <td>1.715693</td>\n      <td>0.454461</td>\n      <td>5.211464</td>\n      <td>6.635312</td>\n      <td>1.345082</td>\n      <td>1.567465</td>\n    </tr>\n    <tr>\n      <th>47</th>\n      <td>40</td>\n      <td>3</td>\n      <td>6</td>\n      <td>47</td>\n      <td>Tennessee</td>\n      <td>6346105</td>\n      <td>6346276</td>\n      <td>6355311</td>\n      <td>6399291</td>\n      <td>6453898</td>\n      <td>...</td>\n      <td>5.295128</td>\n      <td>3.999341</td>\n      <td>5.375475</td>\n      <td>3.586588</td>\n      <td>4.550168</td>\n      <td>5.190219</td>\n      <td>6.072290</td>\n      <td>7.675288</td>\n      <td>7.543825</td>\n      <td>6.661665</td>\n    </tr>\n    <tr>\n      <th>48</th>\n      <td>40</td>\n      <td>3</td>\n      <td>7</td>\n      <td>48</td>\n      <td>Texas</td>\n      <td>25145561</td>\n      <td>25146091</td>\n      <td>25241971</td>\n      <td>25645629</td>\n      <td>26084481</td>\n      <td>...</td>\n      <td>4.361336</td>\n      <td>7.456866</td>\n      <td>8.764683</td>\n      <td>7.132347</td>\n      <td>10.003069</td>\n      <td>10.644301</td>\n      <td>8.369711</td>\n      <td>6.510551</td>\n      <td>5.448428</td>\n      <td>6.618846</td>\n    </tr>\n    <tr>\n      <th>49</th>\n      <td>40</td>\n      <td>4</td>\n      <td>8</td>\n      <td>49</td>\n      <td>Utah</td>\n      <td>2763885</td>\n      <td>2763891</td>\n      <td>2775332</td>\n      <td>2814384</td>\n      <td>2853375</td>\n      <td>...</td>\n      <td>4.902266</td>\n      <td>0.776426</td>\n      <td>1.451720</td>\n      <td>3.053374</td>\n      <td>1.683429</td>\n      <td>3.858608</td>\n      <td>9.016381</td>\n      <td>8.864528</td>\n      <td>6.983989</td>\n      <td>6.656804</td>\n    </tr>\n    <tr>\n      <th>50</th>\n      <td>40</td>\n      <td>1</td>\n      <td>1</td>\n      <td>50</td>\n      <td>Vermont</td>\n      <td>625741</td>\n      <td>625737</td>\n      <td>625879</td>\n      <td>627049</td>\n      <td>626090</td>\n      <td>...</td>\n      <td>-1.092645</td>\n      <td>0.897099</td>\n      <td>-2.464212</td>\n      <td>-0.352951</td>\n      <td>-2.290191</td>\n      <td>-0.028790</td>\n      <td>-2.507861</td>\n      <td>1.543268</td>\n      <td>0.440457</td>\n      <td>-0.479033</td>\n    </tr>\n    <tr>\n      <th>51</th>\n      <td>40</td>\n      <td>3</td>\n      <td>5</td>\n      <td>51</td>\n      <td>Virginia</td>\n      <td>8001024</td>\n      <td>8001049</td>\n      <td>8023699</td>\n      <td>8101155</td>\n      <td>8185080</td>\n      <td>...</td>\n      <td>-1.072502</td>\n      <td>4.396815</td>\n      <td>5.054575</td>\n      <td>3.455999</td>\n      <td>2.208119</td>\n      <td>1.521520</td>\n      <td>1.273915</td>\n      <td>2.382525</td>\n      <td>0.786684</td>\n      <td>0.673014</td>\n    </tr>\n    <tr>\n      <th>52</th>\n      <td>40</td>\n      <td>4</td>\n      <td>9</td>\n      <td>53</td>\n      <td>Washington</td>\n      <td>6724540</td>\n      <td>6724540</td>\n      <td>6742830</td>\n      <td>6826627</td>\n      <td>6897058</td>\n      <td>...</td>\n      <td>4.950999</td>\n      <td>6.906540</td>\n      <td>4.878573</td>\n      <td>4.473256</td>\n      <td>7.799901</td>\n      <td>10.408549</td>\n      <td>13.254138</td>\n      <td>12.865626</td>\n      <td>9.468242</td>\n      <td>8.135276</td>\n    </tr>\n    <tr>\n      <th>53</th>\n      <td>40</td>\n      <td>3</td>\n      <td>5</td>\n      <td>54</td>\n      <td>West Virginia</td>\n      <td>1852994</td>\n      <td>1853018</td>\n      <td>1854239</td>\n      <td>1856301</td>\n      <td>1856872</td>\n      <td>...</td>\n      <td>-3.933336</td>\n      <td>1.901071</td>\n      <td>0.828402</td>\n      <td>-0.825701</td>\n      <td>-1.779985</td>\n      <td>-2.551781</td>\n      <td>-4.330978</td>\n      <td>-5.336583</td>\n      <td>-4.484031</td>\n      <td>-4.127417</td>\n    </tr>\n    <tr>\n      <th>54</th>\n      <td>40</td>\n      <td>2</td>\n      <td>3</td>\n      <td>55</td>\n      <td>Wisconsin</td>\n      <td>5686986</td>\n      <td>5687285</td>\n      <td>5690475</td>\n      <td>5705288</td>\n      <td>5719960</td>\n      <td>...</td>\n      <td>-0.247295</td>\n      <td>-0.777306</td>\n      <td>-0.834993</td>\n      <td>0.066337</td>\n      <td>-0.421473</td>\n      <td>-1.068755</td>\n      <td>-0.628600</td>\n      <td>0.729926</td>\n      <td>0.763089</td>\n      <td>0.327262</td>\n    </tr>\n    <tr>\n      <th>55</th>\n      <td>40</td>\n      <td>4</td>\n      <td>8</td>\n      <td>56</td>\n      <td>Wyoming</td>\n      <td>563626</td>\n      <td>563775</td>\n      <td>564487</td>\n      <td>567299</td>\n      <td>576305</td>\n      <td>...</td>\n      <td>-1.750320</td>\n      <td>-0.379930</td>\n      <td>10.019202</td>\n      <td>4.863492</td>\n      <td>-4.816885</td>\n      <td>0.207166</td>\n      <td>-7.182252</td>\n      <td>-13.322489</td>\n      <td>-5.725739</td>\n      <td>-0.819814</td>\n    </tr>\n    <tr>\n      <th>56</th>\n      <td>40</td>\n      <td>X</td>\n      <td>X</td>\n      <td>72</td>\n      <td>Puerto Rico</td>\n      <td>3725789</td>\n      <td>3726157</td>\n      <td>3721525</td>\n      <td>3678732</td>\n      <td>3634488</td>\n      <td>...</td>\n      <td>0.000000</td>\n      <td>-14.533549</td>\n      <td>-14.982183</td>\n      <td>-13.803542</td>\n      <td>-18.263032</td>\n      <td>-18.480599</td>\n      <td>-19.848533</td>\n      <td>-23.228903</td>\n      <td>-37.860351</td>\n      <td>2.421463</td>\n    </tr>\n  </tbody>\n</table>\n<p>57 rows × 151 columns</p>\n</div>"
     },
     "metadata": {},
     "execution_count": 44
    }
   ],
   "source": [
    "pop_df=pd.read_csv(pop_file)\n",
    "pop_df"
   ]
  },
  {
   "cell_type": "code",
   "execution_count": 45,
   "metadata": {},
   "outputs": [
    {
     "output_type": "execute_result",
     "data": {
      "text/plain": [
       "                      n_killed  n_injured\n",
       "state                                    \n",
       "Alabama                    325        591\n",
       "Alaska                      29         49\n",
       "Arizona                    220        222\n",
       "Arkansas                   169        231\n",
       "California                1320       1607\n",
       "Colorado                   149        164\n",
       "Connecticut                 75        206\n",
       "Delaware                    50        181\n",
       "District of Columbia        92        298\n",
       "Florida                    873       1463\n",
       "Georgia                    522        817\n",
       "Hawaii                       8         13\n",
       "Idaho                       31         26\n",
       "Illinois                   637       2276\n",
       "Indiana                    330        600\n",
       "Iowa                        62        169\n",
       "Kansas                      94        158\n",
       "Kentucky                   194        318\n",
       "Louisiana                  465        921\n",
       "Maine                       22         25\n",
       "Maryland                   294        602\n",
       "Massachusetts              101        315\n",
       "Michigan                   348        629\n",
       "Minnesota                   86        193\n",
       "Mississippi                231        317\n",
       "Missouri                   383        647\n",
       "Montana                     32         30\n",
       "Nebraska                    51        148\n",
       "Nevada                     150        153\n",
       "New Hampshire               22         38\n",
       "New Jersey                 278        628\n",
       "New Mexico                  90         82\n",
       "New York                   397        965\n",
       "North Carolina             487        884\n",
       "North Dakota                15         24\n",
       "Ohio                       494       1120\n",
       "Oklahoma                   171        238\n",
       "Oregon                      96        126\n",
       "Pennsylvania               547       1288\n",
       "Rhode Island                18         76\n",
       "South Carolina             344        626\n",
       "South Dakota                16         20\n",
       "Tennessee                  352        857\n",
       "Texas                     1094       1157\n",
       "Utah                        62         69\n",
       "Vermont                     18         29\n",
       "Virginia                   284        578\n",
       "Washington                 181        236\n",
       "West Virginia               70        119\n",
       "Wisconsin                  163        461\n",
       "Wyoming                     15         12"
      ],
      "text/html": "<div>\n<style scoped>\n    .dataframe tbody tr th:only-of-type {\n        vertical-align: middle;\n    }\n\n    .dataframe tbody tr th {\n        vertical-align: top;\n    }\n\n    .dataframe thead th {\n        text-align: right;\n    }\n</style>\n<table border=\"1\" class=\"dataframe\">\n  <thead>\n    <tr style=\"text-align: right;\">\n      <th></th>\n      <th>n_killed</th>\n      <th>n_injured</th>\n    </tr>\n    <tr>\n      <th>state</th>\n      <th></th>\n      <th></th>\n    </tr>\n  </thead>\n  <tbody>\n    <tr>\n      <th>Alabama</th>\n      <td>325</td>\n      <td>591</td>\n    </tr>\n    <tr>\n      <th>Alaska</th>\n      <td>29</td>\n      <td>49</td>\n    </tr>\n    <tr>\n      <th>Arizona</th>\n      <td>220</td>\n      <td>222</td>\n    </tr>\n    <tr>\n      <th>Arkansas</th>\n      <td>169</td>\n      <td>231</td>\n    </tr>\n    <tr>\n      <th>California</th>\n      <td>1320</td>\n      <td>1607</td>\n    </tr>\n    <tr>\n      <th>Colorado</th>\n      <td>149</td>\n      <td>164</td>\n    </tr>\n    <tr>\n      <th>Connecticut</th>\n      <td>75</td>\n      <td>206</td>\n    </tr>\n    <tr>\n      <th>Delaware</th>\n      <td>50</td>\n      <td>181</td>\n    </tr>\n    <tr>\n      <th>District of Columbia</th>\n      <td>92</td>\n      <td>298</td>\n    </tr>\n    <tr>\n      <th>Florida</th>\n      <td>873</td>\n      <td>1463</td>\n    </tr>\n    <tr>\n      <th>Georgia</th>\n      <td>522</td>\n      <td>817</td>\n    </tr>\n    <tr>\n      <th>Hawaii</th>\n      <td>8</td>\n      <td>13</td>\n    </tr>\n    <tr>\n      <th>Idaho</th>\n      <td>31</td>\n      <td>26</td>\n    </tr>\n    <tr>\n      <th>Illinois</th>\n      <td>637</td>\n      <td>2276</td>\n    </tr>\n    <tr>\n      <th>Indiana</th>\n      <td>330</td>\n      <td>600</td>\n    </tr>\n    <tr>\n      <th>Iowa</th>\n      <td>62</td>\n      <td>169</td>\n    </tr>\n    <tr>\n      <th>Kansas</th>\n      <td>94</td>\n      <td>158</td>\n    </tr>\n    <tr>\n      <th>Kentucky</th>\n      <td>194</td>\n      <td>318</td>\n    </tr>\n    <tr>\n      <th>Louisiana</th>\n      <td>465</td>\n      <td>921</td>\n    </tr>\n    <tr>\n      <th>Maine</th>\n      <td>22</td>\n      <td>25</td>\n    </tr>\n    <tr>\n      <th>Maryland</th>\n      <td>294</td>\n      <td>602</td>\n    </tr>\n    <tr>\n      <th>Massachusetts</th>\n      <td>101</td>\n      <td>315</td>\n    </tr>\n    <tr>\n      <th>Michigan</th>\n      <td>348</td>\n      <td>629</td>\n    </tr>\n    <tr>\n      <th>Minnesota</th>\n      <td>86</td>\n      <td>193</td>\n    </tr>\n    <tr>\n      <th>Mississippi</th>\n      <td>231</td>\n      <td>317</td>\n    </tr>\n    <tr>\n      <th>Missouri</th>\n      <td>383</td>\n      <td>647</td>\n    </tr>\n    <tr>\n      <th>Montana</th>\n      <td>32</td>\n      <td>30</td>\n    </tr>\n    <tr>\n      <th>Nebraska</th>\n      <td>51</td>\n      <td>148</td>\n    </tr>\n    <tr>\n      <th>Nevada</th>\n      <td>150</td>\n      <td>153</td>\n    </tr>\n    <tr>\n      <th>New Hampshire</th>\n      <td>22</td>\n      <td>38</td>\n    </tr>\n    <tr>\n      <th>New Jersey</th>\n      <td>278</td>\n      <td>628</td>\n    </tr>\n    <tr>\n      <th>New Mexico</th>\n      <td>90</td>\n      <td>82</td>\n    </tr>\n    <tr>\n      <th>New York</th>\n      <td>397</td>\n      <td>965</td>\n    </tr>\n    <tr>\n      <th>North Carolina</th>\n      <td>487</td>\n      <td>884</td>\n    </tr>\n    <tr>\n      <th>North Dakota</th>\n      <td>15</td>\n      <td>24</td>\n    </tr>\n    <tr>\n      <th>Ohio</th>\n      <td>494</td>\n      <td>1120</td>\n    </tr>\n    <tr>\n      <th>Oklahoma</th>\n      <td>171</td>\n      <td>238</td>\n    </tr>\n    <tr>\n      <th>Oregon</th>\n      <td>96</td>\n      <td>126</td>\n    </tr>\n    <tr>\n      <th>Pennsylvania</th>\n      <td>547</td>\n      <td>1288</td>\n    </tr>\n    <tr>\n      <th>Rhode Island</th>\n      <td>18</td>\n      <td>76</td>\n    </tr>\n    <tr>\n      <th>South Carolina</th>\n      <td>344</td>\n      <td>626</td>\n    </tr>\n    <tr>\n      <th>South Dakota</th>\n      <td>16</td>\n      <td>20</td>\n    </tr>\n    <tr>\n      <th>Tennessee</th>\n      <td>352</td>\n      <td>857</td>\n    </tr>\n    <tr>\n      <th>Texas</th>\n      <td>1094</td>\n      <td>1157</td>\n    </tr>\n    <tr>\n      <th>Utah</th>\n      <td>62</td>\n      <td>69</td>\n    </tr>\n    <tr>\n      <th>Vermont</th>\n      <td>18</td>\n      <td>29</td>\n    </tr>\n    <tr>\n      <th>Virginia</th>\n      <td>284</td>\n      <td>578</td>\n    </tr>\n    <tr>\n      <th>Washington</th>\n      <td>181</td>\n      <td>236</td>\n    </tr>\n    <tr>\n      <th>West Virginia</th>\n      <td>70</td>\n      <td>119</td>\n    </tr>\n    <tr>\n      <th>Wisconsin</th>\n      <td>163</td>\n      <td>461</td>\n    </tr>\n    <tr>\n      <th>Wyoming</th>\n      <td>15</td>\n      <td>12</td>\n    </tr>\n  </tbody>\n</table>\n</div>"
     },
     "metadata": {},
     "execution_count": 45
    }
   ],
   "source": [
    "gv_2014=gv_df['2014-01-01':'2014-12-31']\n",
    "gv_2014_state=gv_2014.groupby('state').agg('sum')[['n_killed','n_injured']]\n",
    "gv_2014_state"
   ]
  },
  {
   "cell_type": "code",
   "execution_count": 46,
   "metadata": {},
   "outputs": [
    {
     "output_type": "execute_result",
     "data": {
      "text/plain": [
       "                      POPESTIMATE2014\n",
       "NAME                                 \n",
       "Alabama                      4.841799\n",
       "Alaska                       0.736283\n",
       "Arizona                      6.730413\n",
       "Arkansas                     2.967392\n",
       "California                  38.596972\n",
       "Colorado                     5.350101\n",
       "Connecticut                  3.594524\n",
       "Delaware                     0.932487\n",
       "District of Columbia         0.662328\n",
       "Florida                     19.845911\n",
       "Georgia                     10.067278\n",
       "Hawaii                       1.414538\n",
       "Idaho                        1.631112\n",
       "Illinois                    12.884493\n",
       "Indiana                      6.593644\n",
       "Iowa                         3.109350\n",
       "Kansas                       2.900475\n",
       "Kentucky                     4.414349\n",
       "Louisiana                    4.644013\n",
       "Maine                        1.330513\n",
       "Maryland                     5.957283\n",
       "Massachusetts                6.762596\n",
       "Michigan                     9.929848\n",
       "Minnesota                    5.451079\n",
       "Mississippi                  2.990468\n",
       "Missouri                     6.056202\n",
       "Montana                      1.021869\n",
       "Nebraska                     1.879321\n",
       "Nevada                       2.817628\n",
       "New Hampshire                1.333341\n",
       "New Jersey                   8.864525\n",
       "New Mexico                   2.089568\n",
       "New York                    19.651049\n",
       "North Carolina               9.932887\n",
       "North Dakota                 0.737401\n",
       "Ohio                        11.602700\n",
       "Oklahoma                     3.878187\n",
       "Oregon                       3.963244\n",
       "Pennsylvania                12.788313\n",
       "Rhode Island                 1.055936\n",
       "South Carolina               4.823617\n",
       "South Dakota                 0.849129\n",
       "Tennessee                    6.541223\n",
       "Texas                       26.964333\n",
       "Utah                         2.936879\n",
       "Vermont                      0.625214\n",
       "Virginia                     8.310993\n",
       "Washington                   7.054655\n",
       "West Virginia                1.849489\n",
       "Wisconsin                    5.751525\n",
       "Wyoming                      0.582531"
      ],
      "text/html": "<div>\n<style scoped>\n    .dataframe tbody tr th:only-of-type {\n        vertical-align: middle;\n    }\n\n    .dataframe tbody tr th {\n        vertical-align: top;\n    }\n\n    .dataframe thead th {\n        text-align: right;\n    }\n</style>\n<table border=\"1\" class=\"dataframe\">\n  <thead>\n    <tr style=\"text-align: right;\">\n      <th></th>\n      <th>POPESTIMATE2014</th>\n    </tr>\n    <tr>\n      <th>NAME</th>\n      <th></th>\n    </tr>\n  </thead>\n  <tbody>\n    <tr>\n      <th>Alabama</th>\n      <td>4.841799</td>\n    </tr>\n    <tr>\n      <th>Alaska</th>\n      <td>0.736283</td>\n    </tr>\n    <tr>\n      <th>Arizona</th>\n      <td>6.730413</td>\n    </tr>\n    <tr>\n      <th>Arkansas</th>\n      <td>2.967392</td>\n    </tr>\n    <tr>\n      <th>California</th>\n      <td>38.596972</td>\n    </tr>\n    <tr>\n      <th>Colorado</th>\n      <td>5.350101</td>\n    </tr>\n    <tr>\n      <th>Connecticut</th>\n      <td>3.594524</td>\n    </tr>\n    <tr>\n      <th>Delaware</th>\n      <td>0.932487</td>\n    </tr>\n    <tr>\n      <th>District of Columbia</th>\n      <td>0.662328</td>\n    </tr>\n    <tr>\n      <th>Florida</th>\n      <td>19.845911</td>\n    </tr>\n    <tr>\n      <th>Georgia</th>\n      <td>10.067278</td>\n    </tr>\n    <tr>\n      <th>Hawaii</th>\n      <td>1.414538</td>\n    </tr>\n    <tr>\n      <th>Idaho</th>\n      <td>1.631112</td>\n    </tr>\n    <tr>\n      <th>Illinois</th>\n      <td>12.884493</td>\n    </tr>\n    <tr>\n      <th>Indiana</th>\n      <td>6.593644</td>\n    </tr>\n    <tr>\n      <th>Iowa</th>\n      <td>3.109350</td>\n    </tr>\n    <tr>\n      <th>Kansas</th>\n      <td>2.900475</td>\n    </tr>\n    <tr>\n      <th>Kentucky</th>\n      <td>4.414349</td>\n    </tr>\n    <tr>\n      <th>Louisiana</th>\n      <td>4.644013</td>\n    </tr>\n    <tr>\n      <th>Maine</th>\n      <td>1.330513</td>\n    </tr>\n    <tr>\n      <th>Maryland</th>\n      <td>5.957283</td>\n    </tr>\n    <tr>\n      <th>Massachusetts</th>\n      <td>6.762596</td>\n    </tr>\n    <tr>\n      <th>Michigan</th>\n      <td>9.929848</td>\n    </tr>\n    <tr>\n      <th>Minnesota</th>\n      <td>5.451079</td>\n    </tr>\n    <tr>\n      <th>Mississippi</th>\n      <td>2.990468</td>\n    </tr>\n    <tr>\n      <th>Missouri</th>\n      <td>6.056202</td>\n    </tr>\n    <tr>\n      <th>Montana</th>\n      <td>1.021869</td>\n    </tr>\n    <tr>\n      <th>Nebraska</th>\n      <td>1.879321</td>\n    </tr>\n    <tr>\n      <th>Nevada</th>\n      <td>2.817628</td>\n    </tr>\n    <tr>\n      <th>New Hampshire</th>\n      <td>1.333341</td>\n    </tr>\n    <tr>\n      <th>New Jersey</th>\n      <td>8.864525</td>\n    </tr>\n    <tr>\n      <th>New Mexico</th>\n      <td>2.089568</td>\n    </tr>\n    <tr>\n      <th>New York</th>\n      <td>19.651049</td>\n    </tr>\n    <tr>\n      <th>North Carolina</th>\n      <td>9.932887</td>\n    </tr>\n    <tr>\n      <th>North Dakota</th>\n      <td>0.737401</td>\n    </tr>\n    <tr>\n      <th>Ohio</th>\n      <td>11.602700</td>\n    </tr>\n    <tr>\n      <th>Oklahoma</th>\n      <td>3.878187</td>\n    </tr>\n    <tr>\n      <th>Oregon</th>\n      <td>3.963244</td>\n    </tr>\n    <tr>\n      <th>Pennsylvania</th>\n      <td>12.788313</td>\n    </tr>\n    <tr>\n      <th>Rhode Island</th>\n      <td>1.055936</td>\n    </tr>\n    <tr>\n      <th>South Carolina</th>\n      <td>4.823617</td>\n    </tr>\n    <tr>\n      <th>South Dakota</th>\n      <td>0.849129</td>\n    </tr>\n    <tr>\n      <th>Tennessee</th>\n      <td>6.541223</td>\n    </tr>\n    <tr>\n      <th>Texas</th>\n      <td>26.964333</td>\n    </tr>\n    <tr>\n      <th>Utah</th>\n      <td>2.936879</td>\n    </tr>\n    <tr>\n      <th>Vermont</th>\n      <td>0.625214</td>\n    </tr>\n    <tr>\n      <th>Virginia</th>\n      <td>8.310993</td>\n    </tr>\n    <tr>\n      <th>Washington</th>\n      <td>7.054655</td>\n    </tr>\n    <tr>\n      <th>West Virginia</th>\n      <td>1.849489</td>\n    </tr>\n    <tr>\n      <th>Wisconsin</th>\n      <td>5.751525</td>\n    </tr>\n    <tr>\n      <th>Wyoming</th>\n      <td>0.582531</td>\n    </tr>\n  </tbody>\n</table>\n</div>"
     },
     "metadata": {},
     "execution_count": 46
    }
   ],
   "source": [
    "pop_est_2014=pop_df[[\"NAME\",\"POPESTIMATE2014\"]].iloc[5:56]\n",
    "pop_est_2014[\"POPESTIMATE2014\"]=pop_est_2014[\"POPESTIMATE2014\"]/1000000\n",
    "pop_est_2014.set_index('NAME',inplace=True)\n",
    "pop_est_2014"
   ]
  },
  {
   "cell_type": "code",
   "execution_count": 47,
   "metadata": {},
   "outputs": [
    {
     "output_type": "execute_result",
     "data": {
      "text/plain": [
       "                        n_killed   n_injured\n",
       "state                                       \n",
       "Alabama                67.123811  122.062068\n",
       "Alaska                 39.387029   66.550498\n",
       "Arizona                32.687444   32.984603\n",
       "Arkansas               56.952368   77.846136\n",
       "California             34.199574   41.635390\n",
       "Colorado               27.849942   30.653627\n",
       "Connecticut            20.865071   57.309396\n",
       "Delaware               53.620050  194.104583\n",
       "District of Columbia  138.903987  449.928132\n",
       "Florida                43.988910   73.717956\n",
       "Georgia                51.851156   81.154012\n",
       "Hawaii                  5.655557    9.190280\n",
       "Idaho                  19.005439   15.940046\n",
       "Illinois               49.439276  176.646454\n",
       "Indiana                50.048198   90.996724\n",
       "Iowa                   19.939859   54.352196\n",
       "Kansas                 32.408485   54.473836\n",
       "Kentucky               43.947590   72.037802\n",
       "Louisiana             100.128919  198.319858\n",
       "Maine                  16.534976   18.789745\n",
       "Maryland               49.351357  101.052779\n",
       "Massachusetts          14.935093   46.579745\n",
       "Michigan               35.045854   63.344373\n",
       "Minnesota              15.776693   35.405834\n",
       "Mississippi            77.245434  106.003475\n",
       "Missouri               63.240955  106.832632\n",
       "Montana                31.315169   29.357971\n",
       "Nebraska               27.137461   78.751847\n",
       "Nevada                 53.236268   54.300994\n",
       "New Hampshire          16.499905   28.499836\n",
       "New Jersey             31.360958   70.844179\n",
       "New Mexico             43.071104   39.242561\n",
       "New York               20.202484   49.106793\n",
       "North Carolina         49.029049   88.997287\n",
       "North Dakota           20.341714   32.546742\n",
       "Ohio                   42.576297   96.529256\n",
       "Oklahoma               44.092768   61.368882\n",
       "Oregon                 24.222581   31.792138\n",
       "Pennsylvania           42.773429  100.716959\n",
       "Rhode Island           17.046488   71.974059\n",
       "South Carolina         71.315778  129.778131\n",
       "South Dakota           18.842838   23.553547\n",
       "Tennessee              53.812567  131.015255\n",
       "Texas                  40.572114   42.908534\n",
       "Utah                   21.110846   23.494329\n",
       "Vermont                28.790142   46.384118\n",
       "Virginia               34.171609   69.546443\n",
       "Washington             25.656818   33.453089\n",
       "West Virginia          37.848292   64.342097\n",
       "Wisconsin              28.340310   80.152655\n",
       "Wyoming                25.749703   20.599762"
      ],
      "text/html": "<div>\n<style scoped>\n    .dataframe tbody tr th:only-of-type {\n        vertical-align: middle;\n    }\n\n    .dataframe tbody tr th {\n        vertical-align: top;\n    }\n\n    .dataframe thead th {\n        text-align: right;\n    }\n</style>\n<table border=\"1\" class=\"dataframe\">\n  <thead>\n    <tr style=\"text-align: right;\">\n      <th></th>\n      <th>n_killed</th>\n      <th>n_injured</th>\n    </tr>\n    <tr>\n      <th>state</th>\n      <th></th>\n      <th></th>\n    </tr>\n  </thead>\n  <tbody>\n    <tr>\n      <th>Alabama</th>\n      <td>67.123811</td>\n      <td>122.062068</td>\n    </tr>\n    <tr>\n      <th>Alaska</th>\n      <td>39.387029</td>\n      <td>66.550498</td>\n    </tr>\n    <tr>\n      <th>Arizona</th>\n      <td>32.687444</td>\n      <td>32.984603</td>\n    </tr>\n    <tr>\n      <th>Arkansas</th>\n      <td>56.952368</td>\n      <td>77.846136</td>\n    </tr>\n    <tr>\n      <th>California</th>\n      <td>34.199574</td>\n      <td>41.635390</td>\n    </tr>\n    <tr>\n      <th>Colorado</th>\n      <td>27.849942</td>\n      <td>30.653627</td>\n    </tr>\n    <tr>\n      <th>Connecticut</th>\n      <td>20.865071</td>\n      <td>57.309396</td>\n    </tr>\n    <tr>\n      <th>Delaware</th>\n      <td>53.620050</td>\n      <td>194.104583</td>\n    </tr>\n    <tr>\n      <th>District of Columbia</th>\n      <td>138.903987</td>\n      <td>449.928132</td>\n    </tr>\n    <tr>\n      <th>Florida</th>\n      <td>43.988910</td>\n      <td>73.717956</td>\n    </tr>\n    <tr>\n      <th>Georgia</th>\n      <td>51.851156</td>\n      <td>81.154012</td>\n    </tr>\n    <tr>\n      <th>Hawaii</th>\n      <td>5.655557</td>\n      <td>9.190280</td>\n    </tr>\n    <tr>\n      <th>Idaho</th>\n      <td>19.005439</td>\n      <td>15.940046</td>\n    </tr>\n    <tr>\n      <th>Illinois</th>\n      <td>49.439276</td>\n      <td>176.646454</td>\n    </tr>\n    <tr>\n      <th>Indiana</th>\n      <td>50.048198</td>\n      <td>90.996724</td>\n    </tr>\n    <tr>\n      <th>Iowa</th>\n      <td>19.939859</td>\n      <td>54.352196</td>\n    </tr>\n    <tr>\n      <th>Kansas</th>\n      <td>32.408485</td>\n      <td>54.473836</td>\n    </tr>\n    <tr>\n      <th>Kentucky</th>\n      <td>43.947590</td>\n      <td>72.037802</td>\n    </tr>\n    <tr>\n      <th>Louisiana</th>\n      <td>100.128919</td>\n      <td>198.319858</td>\n    </tr>\n    <tr>\n      <th>Maine</th>\n      <td>16.534976</td>\n      <td>18.789745</td>\n    </tr>\n    <tr>\n      <th>Maryland</th>\n      <td>49.351357</td>\n      <td>101.052779</td>\n    </tr>\n    <tr>\n      <th>Massachusetts</th>\n      <td>14.935093</td>\n      <td>46.579745</td>\n    </tr>\n    <tr>\n      <th>Michigan</th>\n      <td>35.045854</td>\n      <td>63.344373</td>\n    </tr>\n    <tr>\n      <th>Minnesota</th>\n      <td>15.776693</td>\n      <td>35.405834</td>\n    </tr>\n    <tr>\n      <th>Mississippi</th>\n      <td>77.245434</td>\n      <td>106.003475</td>\n    </tr>\n    <tr>\n      <th>Missouri</th>\n      <td>63.240955</td>\n      <td>106.832632</td>\n    </tr>\n    <tr>\n      <th>Montana</th>\n      <td>31.315169</td>\n      <td>29.357971</td>\n    </tr>\n    <tr>\n      <th>Nebraska</th>\n      <td>27.137461</td>\n      <td>78.751847</td>\n    </tr>\n    <tr>\n      <th>Nevada</th>\n      <td>53.236268</td>\n      <td>54.300994</td>\n    </tr>\n    <tr>\n      <th>New Hampshire</th>\n      <td>16.499905</td>\n      <td>28.499836</td>\n    </tr>\n    <tr>\n      <th>New Jersey</th>\n      <td>31.360958</td>\n      <td>70.844179</td>\n    </tr>\n    <tr>\n      <th>New Mexico</th>\n      <td>43.071104</td>\n      <td>39.242561</td>\n    </tr>\n    <tr>\n      <th>New York</th>\n      <td>20.202484</td>\n      <td>49.106793</td>\n    </tr>\n    <tr>\n      <th>North Carolina</th>\n      <td>49.029049</td>\n      <td>88.997287</td>\n    </tr>\n    <tr>\n      <th>North Dakota</th>\n      <td>20.341714</td>\n      <td>32.546742</td>\n    </tr>\n    <tr>\n      <th>Ohio</th>\n      <td>42.576297</td>\n      <td>96.529256</td>\n    </tr>\n    <tr>\n      <th>Oklahoma</th>\n      <td>44.092768</td>\n      <td>61.368882</td>\n    </tr>\n    <tr>\n      <th>Oregon</th>\n      <td>24.222581</td>\n      <td>31.792138</td>\n    </tr>\n    <tr>\n      <th>Pennsylvania</th>\n      <td>42.773429</td>\n      <td>100.716959</td>\n    </tr>\n    <tr>\n      <th>Rhode Island</th>\n      <td>17.046488</td>\n      <td>71.974059</td>\n    </tr>\n    <tr>\n      <th>South Carolina</th>\n      <td>71.315778</td>\n      <td>129.778131</td>\n    </tr>\n    <tr>\n      <th>South Dakota</th>\n      <td>18.842838</td>\n      <td>23.553547</td>\n    </tr>\n    <tr>\n      <th>Tennessee</th>\n      <td>53.812567</td>\n      <td>131.015255</td>\n    </tr>\n    <tr>\n      <th>Texas</th>\n      <td>40.572114</td>\n      <td>42.908534</td>\n    </tr>\n    <tr>\n      <th>Utah</th>\n      <td>21.110846</td>\n      <td>23.494329</td>\n    </tr>\n    <tr>\n      <th>Vermont</th>\n      <td>28.790142</td>\n      <td>46.384118</td>\n    </tr>\n    <tr>\n      <th>Virginia</th>\n      <td>34.171609</td>\n      <td>69.546443</td>\n    </tr>\n    <tr>\n      <th>Washington</th>\n      <td>25.656818</td>\n      <td>33.453089</td>\n    </tr>\n    <tr>\n      <th>West Virginia</th>\n      <td>37.848292</td>\n      <td>64.342097</td>\n    </tr>\n    <tr>\n      <th>Wisconsin</th>\n      <td>28.340310</td>\n      <td>80.152655</td>\n    </tr>\n    <tr>\n      <th>Wyoming</th>\n      <td>25.749703</td>\n      <td>20.599762</td>\n    </tr>\n  </tbody>\n</table>\n</div>"
     },
     "metadata": {},
     "execution_count": 47
    }
   ],
   "source": [
    "gv_2014_permil=gv_2014_state.div(pop_est_2014['POPESTIMATE2014'],axis=0)\n",
    "gv_2014_permil"
   ]
  },
  {
   "cell_type": "code",
   "execution_count": 48,
   "metadata": {},
   "outputs": [],
   "source": [
    "# source : https://gist.github.com/rogerallen/1583593\n",
    "\n",
    "states = {\n",
    "    'Alabama': 'AL',\n",
    "    'Alaska': 'AK',\n",
    "    'American Samoa': 'AS',\n",
    "    'Arizona': 'AZ',\n",
    "    'Arkansas': 'AR',\n",
    "    'California': 'CA',\n",
    "    'Colorado': 'CO',\n",
    "    'Connecticut': 'CT',\n",
    "    'Delaware': 'DE',\n",
    "    'District of Columbia': 'DC',\n",
    "    'Florida': 'FL',\n",
    "    'Georgia': 'GA',\n",
    "    'Guam': 'GU',\n",
    "    'Hawaii': 'HI',\n",
    "    'Idaho': 'ID',\n",
    "    'Illinois': 'IL',\n",
    "    'Indiana': 'IN',\n",
    "    'Iowa': 'IA',\n",
    "    'Kansas': 'KS',\n",
    "    'Kentucky': 'KY',\n",
    "    'Louisiana': 'LA',\n",
    "    'Maine': 'ME',\n",
    "    'Maryland': 'MD',\n",
    "    'Massachusetts': 'MA',\n",
    "    'Michigan': 'MI',\n",
    "    'Minnesota': 'MN',\n",
    "    'Mississippi': 'MS',\n",
    "    'Missouri': 'MO',\n",
    "    'Montana': 'MT',\n",
    "    'Nebraska': 'NE',\n",
    "    'Nevada': 'NV',\n",
    "    'New Hampshire': 'NH',\n",
    "    'New Jersey': 'NJ',\n",
    "    'New Mexico': 'NM',\n",
    "    'New York': 'NY',\n",
    "    'North Carolina': 'NC',\n",
    "    'North Dakota': 'ND',\n",
    "    'Northern Mariana Islands':'MP',\n",
    "    'Ohio': 'OH',\n",
    "    'Oklahoma': 'OK',\n",
    "    'Oregon': 'OR',\n",
    "    'Pennsylvania': 'PA',\n",
    "    'Puerto Rico': 'PR',\n",
    "    'Rhode Island': 'RI',\n",
    "    'South Carolina': 'SC',\n",
    "    'South Dakota': 'SD',\n",
    "    'Tennessee': 'TN',\n",
    "    'Texas': 'TX',\n",
    "    'Utah': 'UT',\n",
    "    'Vermont': 'VT',\n",
    "    'Virgin Islands': 'VI',\n",
    "    'Virginia': 'VA',\n",
    "    'Washington': 'WA',\n",
    "    'West Virginia': 'WV',\n",
    "    'Wisconsin': 'WI',\n",
    "    'Wyoming': 'WY'\n",
    "}"
   ]
  },
  {
   "cell_type": "code",
   "execution_count": 49,
   "metadata": {},
   "outputs": [
    {
     "output_type": "execute_result",
     "data": {
      "text/plain": [
       "        state   n_killed   n_injured state_code  year\n",
       "0     Alabama  67.123811  122.062068         AL  2014\n",
       "1      Alaska  39.387029   66.550498         AK  2014\n",
       "2     Arizona  32.687444   32.984603         AZ  2014\n",
       "3    Arkansas  56.952368   77.846136         AR  2014\n",
       "4  California  34.199574   41.635390         CA  2014"
      ],
      "text/html": "<div>\n<style scoped>\n    .dataframe tbody tr th:only-of-type {\n        vertical-align: middle;\n    }\n\n    .dataframe tbody tr th {\n        vertical-align: top;\n    }\n\n    .dataframe thead th {\n        text-align: right;\n    }\n</style>\n<table border=\"1\" class=\"dataframe\">\n  <thead>\n    <tr style=\"text-align: right;\">\n      <th></th>\n      <th>state</th>\n      <th>n_killed</th>\n      <th>n_injured</th>\n      <th>state_code</th>\n      <th>year</th>\n    </tr>\n  </thead>\n  <tbody>\n    <tr>\n      <th>0</th>\n      <td>Alabama</td>\n      <td>67.123811</td>\n      <td>122.062068</td>\n      <td>AL</td>\n      <td>2014</td>\n    </tr>\n    <tr>\n      <th>1</th>\n      <td>Alaska</td>\n      <td>39.387029</td>\n      <td>66.550498</td>\n      <td>AK</td>\n      <td>2014</td>\n    </tr>\n    <tr>\n      <th>2</th>\n      <td>Arizona</td>\n      <td>32.687444</td>\n      <td>32.984603</td>\n      <td>AZ</td>\n      <td>2014</td>\n    </tr>\n    <tr>\n      <th>3</th>\n      <td>Arkansas</td>\n      <td>56.952368</td>\n      <td>77.846136</td>\n      <td>AR</td>\n      <td>2014</td>\n    </tr>\n    <tr>\n      <th>4</th>\n      <td>California</td>\n      <td>34.199574</td>\n      <td>41.635390</td>\n      <td>CA</td>\n      <td>2014</td>\n    </tr>\n  </tbody>\n</table>\n</div>"
     },
     "metadata": {},
     "execution_count": 49
    }
   ],
   "source": [
    "gv_2014_permil.reset_index(inplace=True)\n",
    "gv_2014_permil['state_code'] = gv_2014_permil['state'].apply(lambda x : states[x])\n",
    "gv_2014_permil['year']=2014\n",
    "gv_2014_permil.head()"
   ]
  },
  {
   "cell_type": "code",
   "execution_count": 50,
   "metadata": {},
   "outputs": [
    {
     "output_type": "display_data",
     "data": {
      "application/vnd.plotly.v1+json": {
       "config": {
        "plotlyServerURL": "https://plot.ly"
       },
       "data": [
        {
         "coloraxis": "coloraxis",
         "geo": "geo",
         "hovertemplate": "state_code=%{location}<br>n_killed=%{z}<extra></extra>",
         "locationmode": "USA-states",
         "locations": [
          "AK",
          "AL",
          "AR",
          "AZ",
          "CA",
          "CO",
          "CT",
          "DC",
          "DE",
          "FL",
          "GA",
          "HI",
          "IA",
          "ID",
          "IL",
          "IN",
          "KS",
          "KY",
          "LA",
          "MA",
          "MD",
          "ME",
          "MI",
          "MN",
          "MO",
          "MS",
          "MT",
          "NC",
          "ND",
          "NE",
          "NH",
          "NJ",
          "NM",
          "NV",
          "NY",
          "OH",
          "OK",
          "OR",
          "PA",
          "RI",
          "SC",
          "SD",
          "TN",
          "TX",
          "UT",
          "VA",
          "VT",
          "WA",
          "WI",
          "WV",
          "WY"
         ],
         "name": "",
         "type": "choropleth",
         "z": [
          39.38702917220688,
          67.1238107984243,
          56.952367600910165,
          32.687444292051616,
          34.19957399767008,
          27.849941524468413,
          20.865071425312504,
          138.90398714836152,
          53.620050467191504,
          43.98891036042639,
          51.8511557940488,
          5.655556796636074,
          19.939858812935178,
          19.00543923409306,
          49.439275569477196,
          50.04819793121982,
          32.40848481714202,
          43.94759000704295,
          100.12891867443092,
          14.935092973171841,
          49.35135698606227,
          16.53497560715303,
          35.045853672684615,
          15.776693018024504,
          63.24095530499148,
          77.24543449386518,
          31.315168578359852,
          49.02904865423316,
          20.34171366732619,
          27.137460816965277,
          16.499905125545528,
          31.36095842698847,
          43.07110369224644,
          53.23626823697096,
          20.202483847045517,
          42.57629689641204,
          44.092768089831665,
          24.22258129956167,
          42.77342914581462,
          17.046487665919148,
          71.31577818056451,
          18.842837778476532,
          53.81256685485268,
          40.57211428148436,
          21.110845901380344,
          34.17160861524008,
          28.790142255291787,
          25.656818086780998,
          28.34030974393748,
          37.84829214988573,
          25.749702590935073
         ]
        }
       ],
       "layout": {
        "coloraxis": {
         "colorbar": {
          "title": {
           "text": "n_killed"
          }
         },
         "colorscale": [
          [
           0,
           "#440154"
          ],
          [
           0.1111111111111111,
           "#482878"
          ],
          [
           0.2222222222222222,
           "#3e4989"
          ],
          [
           0.3333333333333333,
           "#31688e"
          ],
          [
           0.4444444444444444,
           "#26828e"
          ],
          [
           0.5555555555555556,
           "#1f9e89"
          ],
          [
           0.6666666666666666,
           "#35b779"
          ],
          [
           0.7777777777777778,
           "#6ece58"
          ],
          [
           0.8888888888888888,
           "#b5de2b"
          ],
          [
           1,
           "#fde725"
          ]
         ]
        },
        "geo": {
         "center": {},
         "domain": {
          "x": [
           0,
           1
          ],
          "y": [
           0,
           1
          ]
         },
         "scope": "usa"
        },
        "legend": {
         "tracegroupgap": 0
        },
        "margin": {
         "t": 60
        },
        "template": {
         "data": {
          "bar": [
           {
            "error_x": {
             "color": "#2a3f5f"
            },
            "error_y": {
             "color": "#2a3f5f"
            },
            "marker": {
             "line": {
              "color": "#E5ECF6",
              "width": 0.5
             }
            },
            "type": "bar"
           }
          ],
          "barpolar": [
           {
            "marker": {
             "line": {
              "color": "#E5ECF6",
              "width": 0.5
             }
            },
            "type": "barpolar"
           }
          ],
          "carpet": [
           {
            "aaxis": {
             "endlinecolor": "#2a3f5f",
             "gridcolor": "white",
             "linecolor": "white",
             "minorgridcolor": "white",
             "startlinecolor": "#2a3f5f"
            },
            "baxis": {
             "endlinecolor": "#2a3f5f",
             "gridcolor": "white",
             "linecolor": "white",
             "minorgridcolor": "white",
             "startlinecolor": "#2a3f5f"
            },
            "type": "carpet"
           }
          ],
          "choropleth": [
           {
            "colorbar": {
             "outlinewidth": 0,
             "ticks": ""
            },
            "type": "choropleth"
           }
          ],
          "contour": [
           {
            "colorbar": {
             "outlinewidth": 0,
             "ticks": ""
            },
            "colorscale": [
             [
              0,
              "#0d0887"
             ],
             [
              0.1111111111111111,
              "#46039f"
             ],
             [
              0.2222222222222222,
              "#7201a8"
             ],
             [
              0.3333333333333333,
              "#9c179e"
             ],
             [
              0.4444444444444444,
              "#bd3786"
             ],
             [
              0.5555555555555556,
              "#d8576b"
             ],
             [
              0.6666666666666666,
              "#ed7953"
             ],
             [
              0.7777777777777778,
              "#fb9f3a"
             ],
             [
              0.8888888888888888,
              "#fdca26"
             ],
             [
              1,
              "#f0f921"
             ]
            ],
            "type": "contour"
           }
          ],
          "contourcarpet": [
           {
            "colorbar": {
             "outlinewidth": 0,
             "ticks": ""
            },
            "type": "contourcarpet"
           }
          ],
          "heatmap": [
           {
            "colorbar": {
             "outlinewidth": 0,
             "ticks": ""
            },
            "colorscale": [
             [
              0,
              "#0d0887"
             ],
             [
              0.1111111111111111,
              "#46039f"
             ],
             [
              0.2222222222222222,
              "#7201a8"
             ],
             [
              0.3333333333333333,
              "#9c179e"
             ],
             [
              0.4444444444444444,
              "#bd3786"
             ],
             [
              0.5555555555555556,
              "#d8576b"
             ],
             [
              0.6666666666666666,
              "#ed7953"
             ],
             [
              0.7777777777777778,
              "#fb9f3a"
             ],
             [
              0.8888888888888888,
              "#fdca26"
             ],
             [
              1,
              "#f0f921"
             ]
            ],
            "type": "heatmap"
           }
          ],
          "heatmapgl": [
           {
            "colorbar": {
             "outlinewidth": 0,
             "ticks": ""
            },
            "colorscale": [
             [
              0,
              "#0d0887"
             ],
             [
              0.1111111111111111,
              "#46039f"
             ],
             [
              0.2222222222222222,
              "#7201a8"
             ],
             [
              0.3333333333333333,
              "#9c179e"
             ],
             [
              0.4444444444444444,
              "#bd3786"
             ],
             [
              0.5555555555555556,
              "#d8576b"
             ],
             [
              0.6666666666666666,
              "#ed7953"
             ],
             [
              0.7777777777777778,
              "#fb9f3a"
             ],
             [
              0.8888888888888888,
              "#fdca26"
             ],
             [
              1,
              "#f0f921"
             ]
            ],
            "type": "heatmapgl"
           }
          ],
          "histogram": [
           {
            "marker": {
             "colorbar": {
              "outlinewidth": 0,
              "ticks": ""
             }
            },
            "type": "histogram"
           }
          ],
          "histogram2d": [
           {
            "colorbar": {
             "outlinewidth": 0,
             "ticks": ""
            },
            "colorscale": [
             [
              0,
              "#0d0887"
             ],
             [
              0.1111111111111111,
              "#46039f"
             ],
             [
              0.2222222222222222,
              "#7201a8"
             ],
             [
              0.3333333333333333,
              "#9c179e"
             ],
             [
              0.4444444444444444,
              "#bd3786"
             ],
             [
              0.5555555555555556,
              "#d8576b"
             ],
             [
              0.6666666666666666,
              "#ed7953"
             ],
             [
              0.7777777777777778,
              "#fb9f3a"
             ],
             [
              0.8888888888888888,
              "#fdca26"
             ],
             [
              1,
              "#f0f921"
             ]
            ],
            "type": "histogram2d"
           }
          ],
          "histogram2dcontour": [
           {
            "colorbar": {
             "outlinewidth": 0,
             "ticks": ""
            },
            "colorscale": [
             [
              0,
              "#0d0887"
             ],
             [
              0.1111111111111111,
              "#46039f"
             ],
             [
              0.2222222222222222,
              "#7201a8"
             ],
             [
              0.3333333333333333,
              "#9c179e"
             ],
             [
              0.4444444444444444,
              "#bd3786"
             ],
             [
              0.5555555555555556,
              "#d8576b"
             ],
             [
              0.6666666666666666,
              "#ed7953"
             ],
             [
              0.7777777777777778,
              "#fb9f3a"
             ],
             [
              0.8888888888888888,
              "#fdca26"
             ],
             [
              1,
              "#f0f921"
             ]
            ],
            "type": "histogram2dcontour"
           }
          ],
          "mesh3d": [
           {
            "colorbar": {
             "outlinewidth": 0,
             "ticks": ""
            },
            "type": "mesh3d"
           }
          ],
          "parcoords": [
           {
            "line": {
             "colorbar": {
              "outlinewidth": 0,
              "ticks": ""
             }
            },
            "type": "parcoords"
           }
          ],
          "pie": [
           {
            "automargin": true,
            "type": "pie"
           }
          ],
          "scatter": [
           {
            "marker": {
             "colorbar": {
              "outlinewidth": 0,
              "ticks": ""
             }
            },
            "type": "scatter"
           }
          ],
          "scatter3d": [
           {
            "line": {
             "colorbar": {
              "outlinewidth": 0,
              "ticks": ""
             }
            },
            "marker": {
             "colorbar": {
              "outlinewidth": 0,
              "ticks": ""
             }
            },
            "type": "scatter3d"
           }
          ],
          "scattercarpet": [
           {
            "marker": {
             "colorbar": {
              "outlinewidth": 0,
              "ticks": ""
             }
            },
            "type": "scattercarpet"
           }
          ],
          "scattergeo": [
           {
            "marker": {
             "colorbar": {
              "outlinewidth": 0,
              "ticks": ""
             }
            },
            "type": "scattergeo"
           }
          ],
          "scattergl": [
           {
            "marker": {
             "colorbar": {
              "outlinewidth": 0,
              "ticks": ""
             }
            },
            "type": "scattergl"
           }
          ],
          "scattermapbox": [
           {
            "marker": {
             "colorbar": {
              "outlinewidth": 0,
              "ticks": ""
             }
            },
            "type": "scattermapbox"
           }
          ],
          "scatterpolar": [
           {
            "marker": {
             "colorbar": {
              "outlinewidth": 0,
              "ticks": ""
             }
            },
            "type": "scatterpolar"
           }
          ],
          "scatterpolargl": [
           {
            "marker": {
             "colorbar": {
              "outlinewidth": 0,
              "ticks": ""
             }
            },
            "type": "scatterpolargl"
           }
          ],
          "scatterternary": [
           {
            "marker": {
             "colorbar": {
              "outlinewidth": 0,
              "ticks": ""
             }
            },
            "type": "scatterternary"
           }
          ],
          "surface": [
           {
            "colorbar": {
             "outlinewidth": 0,
             "ticks": ""
            },
            "colorscale": [
             [
              0,
              "#0d0887"
             ],
             [
              0.1111111111111111,
              "#46039f"
             ],
             [
              0.2222222222222222,
              "#7201a8"
             ],
             [
              0.3333333333333333,
              "#9c179e"
             ],
             [
              0.4444444444444444,
              "#bd3786"
             ],
             [
              0.5555555555555556,
              "#d8576b"
             ],
             [
              0.6666666666666666,
              "#ed7953"
             ],
             [
              0.7777777777777778,
              "#fb9f3a"
             ],
             [
              0.8888888888888888,
              "#fdca26"
             ],
             [
              1,
              "#f0f921"
             ]
            ],
            "type": "surface"
           }
          ],
          "table": [
           {
            "cells": {
             "fill": {
              "color": "#EBF0F8"
             },
             "line": {
              "color": "white"
             }
            },
            "header": {
             "fill": {
              "color": "#C8D4E3"
             },
             "line": {
              "color": "white"
             }
            },
            "type": "table"
           }
          ]
         },
         "layout": {
          "annotationdefaults": {
           "arrowcolor": "#2a3f5f",
           "arrowhead": 0,
           "arrowwidth": 1
          },
          "autotypenumbers": "strict",
          "coloraxis": {
           "colorbar": {
            "outlinewidth": 0,
            "ticks": ""
           }
          },
          "colorscale": {
           "diverging": [
            [
             0,
             "#8e0152"
            ],
            [
             0.1,
             "#c51b7d"
            ],
            [
             0.2,
             "#de77ae"
            ],
            [
             0.3,
             "#f1b6da"
            ],
            [
             0.4,
             "#fde0ef"
            ],
            [
             0.5,
             "#f7f7f7"
            ],
            [
             0.6,
             "#e6f5d0"
            ],
            [
             0.7,
             "#b8e186"
            ],
            [
             0.8,
             "#7fbc41"
            ],
            [
             0.9,
             "#4d9221"
            ],
            [
             1,
             "#276419"
            ]
           ],
           "sequential": [
            [
             0,
             "#0d0887"
            ],
            [
             0.1111111111111111,
             "#46039f"
            ],
            [
             0.2222222222222222,
             "#7201a8"
            ],
            [
             0.3333333333333333,
             "#9c179e"
            ],
            [
             0.4444444444444444,
             "#bd3786"
            ],
            [
             0.5555555555555556,
             "#d8576b"
            ],
            [
             0.6666666666666666,
             "#ed7953"
            ],
            [
             0.7777777777777778,
             "#fb9f3a"
            ],
            [
             0.8888888888888888,
             "#fdca26"
            ],
            [
             1,
             "#f0f921"
            ]
           ],
           "sequentialminus": [
            [
             0,
             "#0d0887"
            ],
            [
             0.1111111111111111,
             "#46039f"
            ],
            [
             0.2222222222222222,
             "#7201a8"
            ],
            [
             0.3333333333333333,
             "#9c179e"
            ],
            [
             0.4444444444444444,
             "#bd3786"
            ],
            [
             0.5555555555555556,
             "#d8576b"
            ],
            [
             0.6666666666666666,
             "#ed7953"
            ],
            [
             0.7777777777777778,
             "#fb9f3a"
            ],
            [
             0.8888888888888888,
             "#fdca26"
            ],
            [
             1,
             "#f0f921"
            ]
           ]
          },
          "colorway": [
           "#636efa",
           "#EF553B",
           "#00cc96",
           "#ab63fa",
           "#FFA15A",
           "#19d3f3",
           "#FF6692",
           "#B6E880",
           "#FF97FF",
           "#FECB52"
          ],
          "font": {
           "color": "#2a3f5f"
          },
          "geo": {
           "bgcolor": "white",
           "lakecolor": "white",
           "landcolor": "#E5ECF6",
           "showlakes": true,
           "showland": true,
           "subunitcolor": "white"
          },
          "hoverlabel": {
           "align": "left"
          },
          "hovermode": "closest",
          "mapbox": {
           "style": "light"
          },
          "paper_bgcolor": "white",
          "plot_bgcolor": "#E5ECF6",
          "polar": {
           "angularaxis": {
            "gridcolor": "white",
            "linecolor": "white",
            "ticks": ""
           },
           "bgcolor": "#E5ECF6",
           "radialaxis": {
            "gridcolor": "white",
            "linecolor": "white",
            "ticks": ""
           }
          },
          "scene": {
           "xaxis": {
            "backgroundcolor": "#E5ECF6",
            "gridcolor": "white",
            "gridwidth": 2,
            "linecolor": "white",
            "showbackground": true,
            "ticks": "",
            "zerolinecolor": "white"
           },
           "yaxis": {
            "backgroundcolor": "#E5ECF6",
            "gridcolor": "white",
            "gridwidth": 2,
            "linecolor": "white",
            "showbackground": true,
            "ticks": "",
            "zerolinecolor": "white"
           },
           "zaxis": {
            "backgroundcolor": "#E5ECF6",
            "gridcolor": "white",
            "gridwidth": 2,
            "linecolor": "white",
            "showbackground": true,
            "ticks": "",
            "zerolinecolor": "white"
           }
          },
          "shapedefaults": {
           "line": {
            "color": "#2a3f5f"
           }
          },
          "ternary": {
           "aaxis": {
            "gridcolor": "white",
            "linecolor": "white",
            "ticks": ""
           },
           "baxis": {
            "gridcolor": "white",
            "linecolor": "white",
            "ticks": ""
           },
           "bgcolor": "#E5ECF6",
           "caxis": {
            "gridcolor": "white",
            "linecolor": "white",
            "ticks": ""
           }
          },
          "title": {
           "x": 0.05
          },
          "xaxis": {
           "automargin": true,
           "gridcolor": "white",
           "linecolor": "white",
           "ticks": "",
           "title": {
            "standoff": 15
           },
           "zerolinecolor": "white",
           "zerolinewidth": 2
          },
          "yaxis": {
           "automargin": true,
           "gridcolor": "white",
           "linecolor": "white",
           "ticks": "",
           "title": {
            "standoff": 15
           },
           "zerolinecolor": "white",
           "zerolinewidth": 2
          }
         }
        }
       }
      }
     },
     "metadata": {}
    }
   ],
   "source": [
    "fig = px.choropleth(gv_2014_permil.groupby('state_code')['n_killed'].sum().reset_index(), locations='state_code', locationmode=\"USA-states\", color='n_killed', scope=\"usa\", color_continuous_scale=\"Viridis\")\n",
    "fig.show()"
   ]
  },
  {
   "cell_type": "code",
   "execution_count": 51,
   "metadata": {},
   "outputs": [],
   "source": [
    "connection_string = \"postgres:Pickles1!@localhost:5432/GV_DB\"\n",
    "engine = create_engine(f'postgresql://{connection_string}')"
   ]
  },
  {
   "cell_type": "code",
   "execution_count": 52,
   "metadata": {},
   "outputs": [
    {
     "output_type": "execute_result",
     "data": {
      "text/plain": [
       "['test_table']"
      ]
     },
     "metadata": {},
     "execution_count": 52
    }
   ],
   "source": [
    "engine.table_names()"
   ]
  },
  {
   "cell_type": "code",
   "execution_count": 56,
   "metadata": {},
   "outputs": [],
   "source": [
    "\n",
    "gv_2014_permil.to_sql(name='test_table',con=engine,if_exists='append')"
   ]
  },
  {
   "cell_type": "code",
   "execution_count": 59,
   "metadata": {},
   "outputs": [],
   "source": [
    "session = Session(engine)"
   ]
  },
  {
   "cell_type": "code",
   "execution_count": 61,
   "metadata": {},
   "outputs": [
    {
     "output_type": "execute_result",
     "data": {
      "text/plain": [
       "[(67.12381, 122.062065, 0, 2014, 'Alabama', 'AL'),\n",
       " (39.387028, 66.5505, 1, 2014, 'Alaska', 'AK'),\n",
       " (32.687443, 32.984604, 2, 2014, 'Arizona', 'AZ'),\n",
       " (56.952366, 77.84614, 3, 2014, 'Arkansas', 'AR'),\n",
       " (34.199574, 41.63539, 4, 2014, 'California', 'CA')]"
      ]
     },
     "metadata": {},
     "execution_count": 61
    }
   ],
   "source": [
    "engine.execute('SELECT * FROM test_table LIMIT 5').fetchall()"
   ]
  },
  {
   "cell_type": "code",
   "execution_count": null,
   "metadata": {},
   "outputs": [],
   "source": []
  }
 ],
 "metadata": {
  "kernelspec": {
   "display_name": "Python 3",
   "language": "python",
   "name": "python3"
  },
  "language_info": {
   "codemirror_mode": {
    "name": "ipython",
    "version": 3
   },
   "file_extension": ".py",
   "mimetype": "text/x-python",
   "name": "python",
   "nbconvert_exporter": "python",
   "pygments_lexer": "ipython3",
   "version": "3.7.6-final"
  }
 },
 "nbformat": 4,
 "nbformat_minor": 4
}